{
 "cells": [
  {
   "cell_type": "markdown",
   "metadata": {},
   "source": [
    "## Exercise for Pandas\n",
    "---\n",
    "Instructions are given in <span style=\"color:blue\">blue</span> color."
   ]
  },
  {
   "cell_type": "code",
   "execution_count": null,
   "metadata": {},
   "outputs": [],
   "source": [
    "import pandas as pd"
   ]
  },
  {
   "cell_type": "markdown",
   "metadata": {},
   "source": [
    "As you have learned, pandas offers many ways to load data from various sources into `DataFrames`. One especially handy way of doing so is by reading data directly from the clipboard. In this exercise, you will make use of this convenient functionality."
   ]
  },
  {
   "cell_type": "markdown",
   "metadata": {},
   "source": [
    "* <div style=\"color:blue\"><a href=\"https://docs.google.com/spreadsheets/d/1BxiMVs0XRA5nFMdKvBdBZjgmUUqptlbs74OgvE2upms/edit#gid=0\">This link</a> will lead you to an example Google Sheets spreadsheet, which contains data about American high school students. Select all data (including the header row) and copy it to your clipboard.</div>\n",
    "* <div style=\"color:blue\">Create a DataFrame object from the contents of your clipboard by calling the appropriate function. Consult <a href=\"https://pandas.pydata.org/pandas-docs/stable/user_guide/io.html\">the pandas documentation</a> for help.</div>\n",
    "* <div style=\"color:blue\">Output the contents of your DataFrame. The results should look similar to this:<br><img src=\"./img/Students.png\" width=\"500\"/></div>"
   ]
  },
  {
   "cell_type": "code",
   "execution_count": null,
   "metadata": {},
   "outputs": [],
   "source": [
    "# Your solution goes here:\n"
   ]
  },
  {
   "cell_type": "markdown",
   "metadata": {},
   "source": [
    "As you can see, the **`Home State`** Column makes use of state name abbreviations. We should find out what these abbreviations actually stand for.\n",
    "\n",
    "* <div style=\"color:blue\"><a href=\"https://www.50states.com/abbreviations.htm\">This online resource</a> lists all state abbreviations in conjunction with their respective full state names. Select the contents of the table (up until Wyoming is sufficient) and copy them to your clipboard. However, do not copy the header row this time around.</div>\n",
    "* <div style=\"color:blue\">Create a second DataFrame object from the contents of your clipboard and provide proper column names while doing so.</div>\n",
    "* <div style=\"color:blue\">Output the contents of your DataFrame. The results should look similar to this:<br><img src=\"./img/States.png\" width=\"200\"/></div>"
   ]
  },
  {
   "cell_type": "code",
   "execution_count": null,
   "metadata": {},
   "outputs": [],
   "source": [
    "# Your solution goes here:\n"
   ]
  },
  {
   "cell_type": "markdown",
   "metadata": {},
   "source": [
    "Now that we have our student information and the accompanying state name information, it would be nice to combine both into a single `DataFrame`.\n",
    "\n",
    "* <div style=\"color:blue\">Look online for ways to <b>merge</b> or <b>join</b> two DataFrames on specific columns.</div>\n",
    "* <div style=\"color:blue\">Create a final DataFrame which holds the combined information. Your results should look something like this:</div><br><img src=\"./img/Merge.png\" width=\"500\"/></div>"
   ]
  },
  {
   "cell_type": "code",
   "execution_count": null,
   "metadata": {},
   "outputs": [],
   "source": [
    "# Your solution goes here:\n"
   ]
  }
 ],
 "metadata": {
  "kernelspec": {
   "display_name": "Python 3 (ipykernel)",
   "language": "python",
   "name": "python3"
  },
  "language_info": {
   "codemirror_mode": {
    "name": "ipython",
    "version": 3
   },
   "file_extension": ".py",
   "mimetype": "text/x-python",
   "name": "python",
   "nbconvert_exporter": "python",
   "pygments_lexer": "ipython3",
   "version": "3.12.2"
  }
 },
 "nbformat": 4,
 "nbformat_minor": 4
}
