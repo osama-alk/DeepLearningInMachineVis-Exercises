{
 "cells": [
  {
   "cell_type": "markdown",
   "metadata": {},
   "source": [
    "## Introduction to ANN - PyTorch Exercise\n",
    "---\n",
    "Instructions are given in <span style=\"color:blue\">blue</span> color."
   ]
  },
  {
   "cell_type": "markdown",
   "metadata": {},
   "source": [
    "## Overview\n",
    "- [Task 1: Train a model for Fashion MNIST](#Task-1:-Train-a-model-for-Fashion-MNIST)\n",
    "  - [Task 1.1: Import helper functions](#Task-1.1:-Import-helper-functions)\n",
    "  - [Task 1.2: Use FashionMNIST](#Task-1.2:-Use-FashionMNIST)\n",
    "  - [Task 1.3: Create a model and use the appropriate device](#Task-1.3:-Create-a-model-and-use-the-appropriate-device)\n",
    "  - [Task 1.4: Train the model](#Task-1.4:-Train-the-model)\n",
    "  - [Task 1.5: Check model quality](#Task-1.5:-Check-model-quality)\n",
    "- [Task 2: Use the model for inference](#Task-2:-Use-the-model-for-inference)\n",
    "  - [Task 2.1: Inference and visualization](#Task-2.1:-Inference-and-visualization)\n",
    "  - [Task 2.2: Challenge - visualizing misclassifications](#Task-2.2:-Challenge---visualizing-misclassifications)"
   ]
  },
  {
   "cell_type": "markdown",
   "metadata": {
    "id": "q-NGtyNPtKWS"
   },
   "source": [
    "---"
   ]
  },
  {
   "cell_type": "code",
   "execution_count": null,
   "metadata": {
    "id": "1DdEOHa2tKWQ"
   },
   "outputs": [],
   "source": [
    "# For tips on running notebooks in Google Colab, see\n",
    "# https://pytorch.org/tutorials/beginner/colab\n",
    "%matplotlib inline"
   ]
  },
  {
   "cell_type": "code",
   "execution_count": null,
   "metadata": {
    "id": "5QuDlMzytKWT"
   },
   "outputs": [],
   "source": [
    "import numpy as np\n",
    "import matplotlib.pyplot as plt\n",
    "from tqdm.notebook import trange, tqdm\n",
    "\n",
    "import torch\n",
    "from torch import nn\n",
    "from torch.utils.data import DataLoader\n",
    "from torchvision import datasets\n",
    "from torchvision.transforms import ToTensor\n",
    "\n",
    "# for timing\n",
    "import datetime as dt"
   ]
  },
  {
   "cell_type": "markdown",
   "metadata": {},
   "source": [
    "## Task 1: Train a model for Fashion MNIST\n",
    "In the first part of the exercise, we want to train a model we can use for `FashionMNIST` and get an ideas as to how well it performs."
   ]
  },
  {
   "cell_type": "markdown",
   "metadata": {},
   "source": [
    "### Task 1.1: Import helper functions\n",
    "<span style=\"color:blue\">\n",
    "    In contrast to what we did in the material notebook, please use the helper functions for the training loop by importing them<br>\n",
    "    <b>Hint:</b> The helper functions are provided in the script <code>train_loop.py</code>\n",
    "</span>"
   ]
  },
  {
   "cell_type": "code",
   "execution_count": null,
   "metadata": {},
   "outputs": [],
   "source": [
    "# helper functions for the training loop\n"
   ]
  },
  {
   "cell_type": "markdown",
   "metadata": {},
   "source": [
    "### Task 1.2: Use FashionMNIST\n",
    "<span style=\"color:blue\">\n",
    "Instead of the usual MNIST dataset, use the drop-in replacement <a href=https://github.com/zalandoresearch/fashion-mnist>FashionMNIST</a>.<br>\n",
    "    <b>Hint:</b> Like the MNIST dataset, <code>FashionMNIST</code> is also directly available from the <code>torchvision.datasets</code> module. Thus, not much has to be changed here ...\n",
    "</span>"
   ]
  },
  {
   "cell_type": "code",
   "execution_count": null,
   "metadata": {
    "id": "WDOU3d7xtKWU"
   },
   "outputs": [],
   "source": [
    "# Download training data and test data from open datasets.\n",
    "training_data = # appropriate code goes here\n",
    "\n",
    "test_data = # appropriate code goes here"
   ]
  },
  {
   "cell_type": "markdown",
   "metadata": {
    "id": "obMcNBm1tKWU"
   },
   "source": [
    "We pass the ``Dataset`` as an argument to ``DataLoader``. This wraps an iterable over our dataset, and supports\n",
    "automatic batching, sampling, shuffling and multiprocess data loading. Here we define a batch size of 64, i.e. each element\n",
    "in the dataloader iterable will return a batch of 64 features and labels.\n",
    "\n"
   ]
  },
  {
   "cell_type": "code",
   "execution_count": null,
   "metadata": {
    "id": "7wXKoLaetKWU"
   },
   "outputs": [],
   "source": [
    "BATCH_SIZE = # set number\n",
    "\n",
    "# Create data loaders.\n",
    "train_dataloader =  # appropriate code goes here \n",
    "test_dataloader = # appropriate code goes here\n",
    "\n",
    "for X, y in test_dataloader:\n",
    "    print(f\"Shape of X [N, C, H, W]: {X.shape}\")\n",
    "    print(f\"Shape of y: {y.shape} {y.dtype}\")\n",
    "    break"
   ]
  },
  {
   "cell_type": "markdown",
   "metadata": {
    "id": "4rwXC9KntKWV"
   },
   "source": [
    "--------------\n",
    "\n",
    "\n"
   ]
  },
  {
   "cell_type": "markdown",
   "metadata": {
    "id": "LhBrOKrKtKWV"
   },
   "source": [
    "### Task 1.3: Create a model and use the appropriate device\n",
    "<span style=\"color:blue\">\n",
    "Make sure you create a neural network and use powerful hardware if available. Do you have to modify anything compared with the material notebook here?\n",
    "</span>"
   ]
  },
  {
   "cell_type": "code",
   "execution_count": null,
   "metadata": {
    "id": "9uV2YU7DtKWW"
   },
   "outputs": [],
   "source": [
    "# Define model\n"
   ]
  },
  {
   "cell_type": "code",
   "execution_count": null,
   "metadata": {},
   "outputs": [],
   "source": [
    "USE_GPU = True\n",
    "# Set the device for training\n"
   ]
  },
  {
   "cell_type": "markdown",
   "metadata": {
    "id": "TT24rFrctKWW"
   },
   "source": [
    "--------------\n",
    "\n",
    "\n"
   ]
  },
  {
   "cell_type": "markdown",
   "metadata": {
    "id": "jNL730MMtKWW",
    "tags": []
   },
   "source": [
    "### Task 1.4: Train the model\n",
    "<span style=\"color:blue\">\n",
    "    Now train the model for 10 epochs as in the MNIST case. Be sure to specify a <code>criterion</code> and an <code>optimizer</code> and record\n",
    "    the time needed for training.\n",
    "</span>"
   ]
  },
  {
   "cell_type": "code",
   "execution_count": null,
   "metadata": {},
   "outputs": [],
   "source": [
    "criterion = # Download training data and test data from open datasets.\n",
    "optimizer = # Download training data and test data from open datasets."
   ]
  },
  {
   "cell_type": "code",
   "execution_count": null,
   "metadata": {
    "id": "V_B9zXnwtKWX"
   },
   "outputs": [],
   "source": [
    "NUM_EPOCHS = 10\n",
    "\n",
    "# perform training\n"
   ]
  },
  {
   "cell_type": "markdown",
   "metadata": {},
   "source": [
    "### Task 1.5: Check model quality\n",
    "<span style=\"color:blue\">\n",
    "    Check how well the final model performs and plot the development of the quality criteria over the epochs.\n",
    "</span>"
   ]
  },
  {
   "cell_type": "code",
   "execution_count": null,
   "metadata": {},
   "outputs": [],
   "source": [
    "# accuracy on the training as well as the test data\n"
   ]
  },
  {
   "cell_type": "code",
   "execution_count": null,
   "metadata": {},
   "outputs": [],
   "source": [
    "# plot training history\n"
   ]
  },
  {
   "cell_type": "markdown",
   "metadata": {
    "id": "SbAUlUAhtKWX"
   },
   "source": [
    "<span style=\"color:blue\">\n",
    "    Interpret the current status. Are you sattisfied with the result?\n",
    "</span>\n",
    "\n",
    "**Interpretation** ...\n",
    "\n",
    "--------------"
   ]
  },
  {
   "cell_type": "markdown",
   "metadata": {},
   "source": [
    "## Task 2: Use the model for inference\n",
    "Once the model has been trained, we want to use it to classify new images. Ideally, we have an appropriate way of visualizing the results."
   ]
  },
  {
   "cell_type": "markdown",
   "metadata": {
    "id": "PKvYiQBptKWX"
   },
   "source": [
    "### Task 2.1: Inference and visualization\n",
    "<span style=\"color:blue\">\n",
    "    Now apply the model \n",
    "    <ul>\n",
    "        <li>to a single image </li>\n",
    "        <li>to 16 images of a batch provided by the test data loader</li>\n",
    "    </ul>\n",
    "    Then visually check the predictions vs. the actual classes for those 16 elements (be sure to arrange the images in a 4 x 4 grid when doing so)<br>\n",
    "    <b>Hint:</b> The numbers of the classes represent actual items this time. You will therefore need to use a list which <i>maps</i> the numbers to the actual items. You can find the mapping <a href=https://github.com/zalandoresearch/fashion-mnist#Labels>here</a>.\n",
    "</span>"
   ]
  },
  {
   "cell_type": "code",
   "execution_count": null,
   "metadata": {},
   "outputs": [],
   "source": [
    "classes = # list of class labels\n",
    "\n",
    "# evaluate on single image\n"
   ]
  },
  {
   "cell_type": "code",
   "execution_count": null,
   "metadata": {},
   "outputs": [],
   "source": [
    "# test on first 16 images of the first set\n"
   ]
  },
  {
   "cell_type": "code",
   "execution_count": null,
   "metadata": {},
   "outputs": [],
   "source": [
    "# visual check\n"
   ]
  },
  {
   "cell_type": "markdown",
   "metadata": {},
   "source": [
    "---"
   ]
  },
  {
   "cell_type": "markdown",
   "metadata": {},
   "source": [
    "### Task 2.2: Challenge - visualizing misclassifications\n",
    "<span style=\"color:blue\">\n",
    "    Find all misclassifications and visualize some of them.\n",
    "</span>"
   ]
  },
  {
   "cell_type": "code",
   "execution_count": null,
   "metadata": {},
   "outputs": [],
   "source": []
  }
 ],
 "metadata": {
  "colab": {
   "provenance": [
    {
     "file_id": "https://github.com/pytorch/tutorials/blob/gh-pages/_downloads/af0caf6d7af0dda755f4c9d7af9ccc2c/quickstart_tutorial.ipynb",
     "timestamp": 1704207890306
    }
   ]
  },
  "kernelspec": {
   "display_name": "Python 3 (ipykernel)",
   "language": "python",
   "name": "python3"
  },
  "language_info": {
   "codemirror_mode": {
    "name": "ipython",
    "version": 3
   },
   "file_extension": ".py",
   "mimetype": "text/x-python",
   "name": "python",
   "nbconvert_exporter": "python",
   "pygments_lexer": "ipython3",
   "version": "3.12.2"
  }
 },
 "nbformat": 4,
 "nbformat_minor": 4
}
