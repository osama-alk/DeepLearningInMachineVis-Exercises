{
 "cells": [
  {
   "cell_type": "markdown",
   "metadata": {},
   "source": [
    "## Introduction to Object Detection using Deep Learning - Mini Project\n",
    "---\n",
    "Instructions are given in <span style=\"color:blue\">blue</span> color.\n",
    "\n",
    "<span style=\"color:blue\">As a starting point, use</span>\n",
    "* the [implementation notebook](07a_Intro_OD_PT.ipynb) and rename it to `<your initials>_Intro_OD_MD.ipynb`\n",
    "* and the [script containing the utility functions](utils.py) renamed to `<your initials>_utils_MD.py`\n",
    "\n",
    "(and then <span style=\"color:blue\">be sure to import from the new utils</span> in your notebook).\n",
    "\n",
    "**General Instructions and Hints**\n",
    "\n",
    "* <span style=\"color:blue\"> In your solution notebook and in the <tt>utils</tt> script, make it clear and explain what you did for which one of the tasks using markdown and / or commentary as appropriate.</span>\n",
    "* You can delete most of the markdown from the original notebook and keep only what you reference for your solutions, but add explanations where necessary yourself.\n",
    "* You will be able to make use of or at least be inspired by some of the material already provided for other topics in this class (e.g., for Task 1.4)\n",
    "* <span style=\"color:red\"> Whenever you use something from a specific source or by employing a specific tool <b>academic honesty demands</b> that you reference the original source!!!</span>"
   ]
  },
  {
   "cell_type": "markdown",
   "metadata": {},
   "source": [
    "## Overview\n",
    "- [Introduction to Object Detection using Deep Learning - Mini Project](#Introduction-to-Object-Detection-using-Deep-Learning---Mini-Project)\n",
    "- [Task 1: Minor Modifications and Additions to the SSD implementation](#Task-1:-Minor-Modifications-and-Additions-to-the-SSD-implementation)\n",
    "  - [Task 1.1: Provide Information on the CUDA device](#Task-1.1:-Provide-Information-on-the-CUDA-device)\n",
    "  - [Task 1.2: Ensure reproducibility](#Task-1.2:-Ensure-reproducibility)\n",
    "  - [Task 1.3: Use epochs instead of iterations](#Task-1.3:-Use-epochs-instead-of-iterations)\n",
    "  - [Task 1.4: Additions to the color mapping](#Task-1.4:-Additions-to-the-color-mapping)\n",
    "  - [Task 1.5: Selective saving of checkpoints](#Task-1.5:-Selective-saving-of-checkpoints)\n",
    "- [Task 2: Advanced Modifications and Additions](#Task-2:-Advanced-Modifications-and-Additions)\n",
    "  - [Task 2.1: History](#Task-2.1:-History)\n",
    "  - [Task 2.2: Advanced saving of checkpoints](#Task-2.2:-Advanced-saving-of-checkpoints)\n",
    "  - [Task 2.3: Visual checking of progress](#Task-2.3:-Visual-checking-of-progress)\n",
    "- [Additional Ideas](#Additional-Ideas)\n",
    "- [Extra Credit](#Extra-Credit)"
   ]
  },
  {
   "cell_type": "markdown",
   "metadata": {
    "id": "q-NGtyNPtKWS"
   },
   "source": [
    "---"
   ]
  },
  {
   "cell_type": "markdown",
   "metadata": {},
   "source": [
    "## Task 1: Minor Modifications and Additions to the SSD implementation\n",
    "In the first part of the mini project, you will be asked to apply some minor changes and provide simple additions to the SSD implementation."
   ]
  },
  {
   "cell_type": "markdown",
   "metadata": {},
   "source": [
    "### Task 1.1: Provide Information on the CUDA device\n",
    "<span style=\"color:blue\">\n",
    "    In addition to checking for the availability of a CUDA device, also output its name if one is available.\n",
    "</span>"
   ]
  },
  {
   "cell_type": "markdown",
   "metadata": {},
   "source": [
    "### Task 1.2: Ensure reproducibility\n",
    "<span style=\"color:blue\">\n",
    "    Make sure that when running your code on the same device again, the resuts will be the same.\n",
    "</span>"
   ]
  },
  {
   "cell_type": "markdown",
   "metadata": {
    "id": "LhBrOKrKtKWV"
   },
   "source": [
    "### Task 1.3: Use epochs instead of iterations\n",
    "* <span style=\"color:blue\">First, make sure that the amount of training to be conducted is specified directly in terms of epochs, not iterations;</span>\n",
    "* <span style=\"color:blue\">when doing so, make sure to correctly specify the epochs for the decay of the learning rate;</span>\n",
    "* <span style=\"color:blue\">finally, ensure that in case training is being continued from a checkpoint, this happens using the correct learning rate.</span>\n",
    "\n",
    "**Hint:** You should demonstrate that you solution works, but you do not to have to train for a lengthy period of time ..."
   ]
  },
  {
   "cell_type": "markdown",
   "metadata": {},
   "source": [
    "### Task 1.4: Additions to the color mapping\n",
    "* <span style=\"color:blue\">First, visualize which color is used for indicating which class;</span>\n",
    "* <span style=\"color:blue\">then, also show how the text overlays will look;</span>\n",
    "* <span style=\"color:blue\">finally, choose the appropriate text color (white or black) for the individual classes and make use of these for drawing the bounding boxes on images.</span>"
   ]
  },
  {
   "cell_type": "markdown",
   "metadata": {
    "id": "jNL730MMtKWW",
    "tags": []
   },
   "source": [
    "### Task 1.5: Selective saving of checkpoints\n",
    "<span style=\"color:blue\">\n",
    "    Make sure that checkpoints are saved according to a frequency parameter to be spcified (if at all), where the final model from the last epoch of training should always be saved. When doing so, do not overwrite the previous checkpoint, but rather choose the name of the checkpoint to reflect the corresponding epoch.\n",
    "</span>\n",
    "\n",
    "\n",
    "**Hint:** You should again demonstrate that this works, but you could set the frequency to 1 in order to not to have to train for a lengthy period of time ..."
   ]
  },
  {
   "cell_type": "markdown",
   "metadata": {},
   "source": [
    "## Task 2: Advanced Modifications and Additions\n",
    "At this point, we still cannot really assess the development of the training process w.r.t quality. So, the subtasks here are all geared towards this goal."
   ]
  },
  {
   "cell_type": "markdown",
   "metadata": {
    "id": "PKvYiQBptKWX"
   },
   "source": [
    "### Task 2.1: History\n",
    "<span style=\"color:blue\">\n",
    "Record the <i>history</i> of the training loss, save it as part of a checkpoint and visualize its development over the training process. \n",
    "</span>\n",
    "\n",
    "**Hints:** \n",
    "* You might want to take a closer look at the `AverageMeter` class in the utilities script.\n",
    "* Latest at this point, you should use `matplotlib`, but probably you already used it for task 1.4 ..."
   ]
  },
  {
   "cell_type": "markdown",
   "metadata": {},
   "source": [
    "### Task 2.2: Advanced saving of checkpoints\n",
    "* <span style=\"color:blue\">Based on the history, find a way to implement <i>early stopping</i> and, if so desired, only to keep the best performing checkpoint as of a specific epoch.</span>\n",
    "* <span style=\"color:blue\">Augment the history by computing the mAP whenever a checkpoint is saved.</span>\n",
    "\n",
    "**Hints:**\n",
    "* You should again demonstrate that your solution works without necessarily training for a lengthy period of time ...\n",
    "* mAP might also come in handy for early stopping, but should only be applied in connection with the first additional idea below ..."
   ]
  },
  {
   "cell_type": "markdown",
   "metadata": {},
   "source": [
    "### Task 2.3: Visual checking of progress\n",
    "<span style=\"color:blue\">\n",
    "For a certain image / certain images, output the predictions of the SSD model in various stages, i.e. after different epochs and compare it to the ground truth. \n",
    "</span>\n",
    "\n",
    "**Hints:** \n",
    "* Again, this should be done using `matplotlib`\n",
    "* For generating the annotated images for the ground truth, the `draw` method needs to be adapted"
   ]
  },
  {
   "cell_type": "markdown",
   "metadata": {},
   "source": [
    "## Additional Ideas\n",
    "Some more things you could do are\n",
    "* to add some validation data and perform a validation after each epoch to add to the history (here, we would have to calculate the mean average precision for the validation data)\n",
    "* check the issues mentioned in the original author's [remarks](07b_Intro_OD_PT.ipynb#Remarks) and try to remedy those\n",
    "* come up with your own ideas ...\n",
    "\n",
    "Remember, this is **your mini project!**"
   ]
  },
  {
   "cell_type": "markdown",
   "metadata": {},
   "source": [
    "## Extra Credit\n",
    "One issue we have not yet mentioned is the fact that VGG-16 is a rather outdated model which is not widely used anymore. In fact, we could use a [ResNet](https://pytorch.org/hub/pytorch_vision_resnet/) architecture instead, which usually outperforms VGG-16 on common image classification tasks.\n",
    "\n",
    "If you can come up with a working solution for SSD on the Pascal VOC dataset based on a ResNet architecture, this will count for extra credit (but only if you pay heed to the hint about academic honesty above!)."
   ]
  }
 ],
 "metadata": {
  "colab": {
   "provenance": [
    {
     "file_id": "https://github.com/pytorch/tutorials/blob/gh-pages/_downloads/af0caf6d7af0dda755f4c9d7af9ccc2c/quickstart_tutorial.ipynb",
     "timestamp": 1704207890306
    }
   ]
  },
  "kernelspec": {
   "display_name": "Python 3 (ipykernel)",
   "language": "python",
   "name": "python3"
  },
  "language_info": {
   "codemirror_mode": {
    "name": "ipython",
    "version": 3
   },
   "file_extension": ".py",
   "mimetype": "text/x-python",
   "name": "python",
   "nbconvert_exporter": "python",
   "pygments_lexer": "ipython3",
   "version": "3.12.2"
  }
 },
 "nbformat": 4,
 "nbformat_minor": 4
}
