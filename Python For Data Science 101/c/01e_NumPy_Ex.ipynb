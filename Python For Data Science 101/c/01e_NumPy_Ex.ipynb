{
 "cells": [
  {
   "cell_type": "markdown",
   "metadata": {},
   "source": [
    "## Osama Al Kamel / Mtr Num: 3141575\n",
    "## Joshua Oldridge / Mtr Num:\n",
    "---"
   ]
  },
  {
   "cell_type": "markdown",
   "metadata": {},
   "source": [
    "## Exercise for NumPy\n",
    "---\n",
    "Task in <span style=\"color:blue\">blue</span> color."
   ]
  },
  {
   "cell_type": "code",
   "execution_count": null,
   "metadata": {},
   "outputs": [],
   "source": [
    "import pandas as pd\n",
    "import numpy as np\n",
    "import matplotlib.pyplot as plt"
   ]
  },
  {
   "cell_type": "code",
   "execution_count": null,
   "metadata": {},
   "outputs": [],
   "source": [
    "%matplotlib inline"
   ]
  },
  {
   "cell_type": "markdown",
   "metadata": {},
   "source": [
    "The [MNIST database](https://en.wikipedia.org/wiki/MNIST_database) is a well-known and publicly available benchmark dataset for classifying handwritten digits between 0 and 9. In this exercise, you will examine a tiny subset of the dataset and use NumPy to prepare, manipulate, and display handwritten MNIST digits."
   ]
  },
  {
   "cell_type": "code",
   "execution_count": null,
   "metadata": {},
   "outputs": [],
   "source": [
    "# Read MNIST sample data from csv\n",
    "images = pd.read_csv('./data/MNIST_mini.csv')"
   ]
  },
  {
   "cell_type": "code",
   "execution_count": null,
   "metadata": {},
   "outputs": [],
   "source": [
    "images"
   ]
  },
  {
   "cell_type": "markdown",
   "metadata": {},
   "source": [
    "As you can see, the CSV file provided contains six entries from the original MNIST dataset. Each entry represents a 28x28 pixel image, resulting in a total of 784 pixels. For each of these 784 pixels, a separate column (prefixed **`pixel`**) contains a number from 0 to 255, denoting an 8-bit grayscale value for the corresponding pixel (0 is black and 255 is white). In addition, the **`label`** column provides information about the actual number that the image represents. For example, the first example should represent the number **1**."
   ]
  },
  {
   "cell_type": "markdown",
   "metadata": {},
   "source": [
    "* <div style=\"color:blue\">At the moment, all data is stored in the DataFrame <code>images</code>. Your first task will be to create a NumPy array from this DataFrame. If you're not quite sure how to achieve this, a quick web search should help. Or a look at the introductory material on Pandas...</div>"
   ]
  },
  {
   "cell_type": "code",
   "execution_count": null,
   "metadata": {},
   "outputs": [],
   "source": [
    "# Your solution:\n",
    "numpyArray = np.array(images.values)\n",
    "print(numpyArray)"
   ]
  },
  {
   "cell_type": "markdown",
   "metadata": {},
   "source": [
    "* <div style=\"color:blue\">Use slicing to remove the <code>label</code> column (the first column) in the array.</div>"
   ]
  },
  {
   "cell_type": "code",
   "execution_count": null,
   "metadata": {},
   "outputs": [],
   "source": [
    "# Your solution: \n",
    "numpyArray = numpyArray[:,1:]\n",
    "print(numpyArray)"
   ]
  },
  {
   "cell_type": "markdown",
   "metadata": {},
   "source": [
    "* <div style=\"color:blue\">You should now have a 2-D array that contains 6 rows (for 6 images) and 784 columns (for 784 pixels for each image). Create a new NumPy array containing only the <b>4th</b> sample (note that indexing starts at 0).</div>"
   ]
  },
  {
   "cell_type": "code",
   "execution_count": null,
   "metadata": {},
   "outputs": [],
   "source": [
    "# Your solution: \n",
    "img4 = numpyArray[3:4,:]"
   ]
  },
  {
   "cell_type": "markdown",
   "metadata": {},
   "source": [
    "* <div style=\"color:blue\">Your new 1-D array is now a flattened representation of a single grayscale image. However, before you can visualize the image, you must convert the flattened array into a real 28x28 matrix. To do this, use the <a href=\"https://numpy.org/doc/stable/reference/generated/numpy.reshape.html\">reshape function</a> of NumPy</a>.</div>"
   ]
  },
  {
   "cell_type": "code",
   "execution_count": null,
   "metadata": {},
   "outputs": [],
   "source": [
    "# Your solution:\n",
    "img4reshaped = img4.reshape((28,28))"
   ]
  },
  {
   "cell_type": "markdown",
   "metadata": {},
   "source": [
    "* <div style=\"color:blue\">Change the following command to use your redesigned NumPy array (replace <code>sample</code>). If you've done everything correctly up to this point, you should be able to see the handwritten digit <code>4</code> (which is what you would expect if you revert to the labels from the original DataFrame). If you see a different digit, you should check your previously indexed image.</div>"
   ]
  },
  {
   "cell_type": "code",
   "execution_count": null,
   "metadata": {},
   "outputs": [],
   "source": [
    "plt.imshow(img4reshaped, cmap='gray')"
   ]
  },
  {
   "cell_type": "markdown",
   "metadata": {},
   "source": [
    "* <div style=\"color:blue\">Finally, use array operations from NumPy to flip the image <b>horizontally</b>. Corresponding references for solving the problem can be found <a href=\"https://numpy.org/doc/stable/reference/generated/numpy.flip.html\">here</a>, <a href=\"https://numpy.org/doc/stable/reference/generated/numpy.rot90.html\">here</a>, and <a href=\"https://numpy.org/doc/stable/reference/generated/numpy.ndarray.T.html\">here</a>. The result should look like this:<br><img src=\"./img/EX_01c_Mirror.png\" width=\"250\"/></div></div>"
   ]
  },
  {
   "cell_type": "code",
   "execution_count": null,
   "metadata": {},
   "outputs": [],
   "source": [
    "# Your solution:\n",
    "img4flipped = np.fliplr(img4reshaped)\n",
    "plt.imshow(img4flipped, cmap='gray')"
   ]
  }
 ],
 "metadata": {
  "kernelspec": {
   "display_name": "Python 3 (ipykernel)",
   "language": "python",
   "name": "python3"
  },
  "language_info": {
   "codemirror_mode": {
    "name": "ipython",
    "version": 3
   },
   "file_extension": ".py",
   "mimetype": "text/x-python",
   "name": "python",
   "nbconvert_exporter": "python",
   "pygments_lexer": "ipython3",
   "version": "3.12.2"
  }
 },
 "nbformat": 4,
 "nbformat_minor": 4
}
