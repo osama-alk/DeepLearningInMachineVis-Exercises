{
 "cells": [
  {
   "cell_type": "markdown",
   "id": "00663b0c",
   "metadata": {},
   "source": [
    "Homework Group A\n",
    "## Osama Al Kamel / Mtr Num: 3141575\n",
    "## Joshua Oldridge / Mtr Num: 3140770\n",
    "---"
   ]
  },
  {
   "cell_type": "markdown",
   "id": "cf95f9c9-a791-49fa-a3d6-710d5a12dc5c",
   "metadata": {},
   "source": [
    "# Introduction to Vision Transformers - Material\n",
    "---"
   ]
  },
  {
   "cell_type": "markdown",
   "id": "4c94e789-ddb0-48cc-9151-466c02caf4a1",
   "metadata": {
    "jp-MarkdownHeadingCollapsed": true
   },
   "source": [
    "Transformer Models have revolutionized the field of machine learning, offering versatile architectures that excel in understanding complex patterns in data. Initially conceived for natural language processing tasks, Transformer Models are expanding their influence into other domains, including computer vision. These models are characterized by their unique ability to process sequential data, making them ideal for tasks involving time series, text, and even images.\n",
    "\n",
    "In this notebook, we will explore the fundamentals of Transformer Models, focusing on their adaptability and efficiency in handling image data specifically. We will demonstrate how these powerful architectures can be adapted from language to vision tasks. **Vision Transformers (ViTs)** represent an intriguing adaptation of the Transformer framework, treating image patches as sequential tokens, thus allowing the model to capture complex spatial hierarchies and relationships within visual data.\n",
    "\n",
    "This notebook will first cover the **theory and fundamentals** behind (Vision) Transformer models. What follows is a basic **implementation in PyTorch**.\n",
    "\n",
    "---"
   ]
  },
  {
   "cell_type": "markdown",
   "id": "46acd69e-4b9b-4f31-99d6-8e0c5d5583e4",
   "metadata": {},
   "source": [
    "## Overview\n",
    "\n",
    "- [Additional ressources](#Additional-ressources)\n",
    "\n",
    "    - [Classification](#Classification)\n",
    "- [Implementation](#Implementation)\n",
    "  - [Imports](#Imports)\n",
    "  - [Parameters](#Parameters)\n",
    "  - [Load data](#Load-data)\n",
    "  - [Create model](#Create-model)\n",
    "    - [Component 1: Embedding layer](#Component-1:-Embedding-layer)\n",
    "    - [Component 2: Transformer Encoder](#Component-2:-Transformer-Encoder)\n",
    "    - [Component 3: Classifier](#Component-3:-Classifier)\n",
    "    - [Combining everything to a ViT](#Combining-everything-to-a-ViT)\n",
    "  - [Training](#Training)\n",
    "  - [Evalute](#Evaluate)\n",
    "  - [Final Notes](#Final-Notes)\n",
    "- [Learning Outcomes](#Learning-Outcomes)\n",
    "\n",
    "---"
   ]
  },
  {
   "cell_type": "markdown",
   "id": "b8777387-7dd2-4617-990d-6e2617bdd383",
   "metadata": {},
   "source": [
    "## Theory\n",
    "---"
   ]
  },
  {
   "cell_type": "markdown",
   "id": "e94486b9-80f3-4bde-aa9e-dceab90012e7",
   "metadata": {},
   "source": [
    "We will again adapt the excellent material provided by [Sagar Vinodababu](https://www.linkedin.com/in/svinodababu/) on [GitHub](https://github.com/sgrvinod/a-PyTorch-Tutorial-to-Transformers). Note that his introduction is based on **Natural Language Processing (NLP)** tasks, which is the original birthplace of the **transformer model**. At their core, transformer models rely on a **fundamental technique** that allow them to be very flexible for all kinds of tasks: **Attention**. This technique can be understood quite well by looking at the use case where it originated from. This understanding will be fully transferable to other tasks such as vision, audio, or video. If you think about it, you only need to transform data in the right way and everything could be text! Just as Sagar Vinodababu says in his tutorial:\n",
    "\n",
    "> As in the original transformer paper, the context presented here is an NLP task – specifically the sequence transduction problem of machine translation. If you want to apply transformers to images, this tutorial is still a good place to learn about how they work.\n",
    "\n",
    "This introduction will adapt the source material to exclude some NLP specifics and focus on the aspects that are concurrently used in vision transformers. The [implementation part](#Implementation) of this notebook will illustrate the necessary adapations to build a transformer model for vision use cases."
   ]
  },
  {
   "cell_type": "markdown",
   "id": "1d296d48-ee38-4124-9aa0-60c01ad31ef0",
   "metadata": {},
   "source": [
    "<span style=\"color:red\"> If you do not understand some of the NLP specific terms like RNNs or word tokens, that is okay - do not dwell on it. Instead you should always ask yourself: <b>what if instead of words (or text), we would be dealing with pixels (or parts of an image) instead?</b></span>"
   ]
  },
  {
   "cell_type": "markdown",
   "id": "3ae5e83d-8eeb-4ea7-b375-f8d331919aeb",
   "metadata": {},
   "source": [
    "### Concepts\n",
    "* **Machine Translation.** This is the use case that inspired the creation of the transformer model. It is the process of using computer software to translate text or speech from one language to another. Before the inception of the transformer, this has been achieved by recurrent neural networks (RNNs). RNNs are deep learning models that can store information in an internal state and therefore process sequence data. This made RNNs very suitable for NLP, since text can easily be modeled as a sqeuence of words.\n",
    "* **Transformer Network.** We have almost retired RNNs in favour of transformers, a new type of sequence model that possesses an unparalleled ability for representation and abstraction – all while being simpler, more efficient, and significantly more parallelizable. Today, the application of transformers is nearly universal, as their resounding success in NLP has also led to increasing adoption in computer vision tasks.\n",
    "* **Multi-Head Scaled Dot-Product Attention.** At the heart of the transformer is the attention mechanism, specifically this flavour of attention. It allows the transformer to interpret and encode a sequence in a multitude of contexts and with an unprecedented level of nuance.\n",
    "* **Encoder-Decoder Architecture.** Similar to RNNs, transformer models for sequence transduction typically consist of an encoder that encodes an input sequence, and a decoder that decodes it, token by token, into the output sequence. For vision transformers, we are mostly interested in the encoder part. In contrast to that, GenAI models like the GPT family employ a decoder-only architecture.\n",
    "* **Positional Embeddings.** Unlike RNNs, transformers do not innately account for the sequential nature of text – they instead view such a sequence as a bag of tokens, or pieces of text, that can be freely mixed and matched with tokens from the same or from a different bag. The coordinates of tokens in a sequence are therefore manually injected into the transformer as one-dimensional vectors or embeddings, allowing the transformer to incorporate their relative positions into its calculations."
   ]
  },
  {
   "cell_type": "markdown",
   "id": "43417f55-e68d-4cb4-b70f-b5358441c5fa",
   "metadata": {},
   "source": [
    "### Better than RNNs, but how?"
   ]
  },
  {
   "cell_type": "markdown",
   "id": "08bbf67d-2097-4509-958d-516a1e43e921",
   "metadata": {},
   "source": [
    "Recurrent neural networks (RNNs) have long been a staple among NLP practitioners. They operate upon a sequence – you guessed it – sequentially. This isn't weird at all; it's even intuitive because that's how we do it too – we read text from one side to another."
   ]
  },
  {
   "cell_type": "markdown",
   "id": "77ca880f-1970-47f6-b139-966583040bc0",
   "metadata": {},
   "source": [
    "## Implementation\n",
    "---"
   ]
  },
  {
   "cell_type": "markdown",
   "id": "e2097c19-9faf-4b8c-9d4d-365c43aa8379",
   "metadata": {},
   "source": [
    "Now we want to implement the ViT with all of its components from scratch in `PyTorch`: "
   ]
  },
  {
   "cell_type": "markdown",
   "id": "3eeb01ad-041c-4eb7-bf3f-1a56c1440e4a",
   "metadata": {},
   "source": [
    "<img src=\"./img/vit.gif\" width=800/>\n",
    "\n",
    "Source: [Phil Wang](https://github.com/lucidrains/vit-pytorch/blob/main/images/vit.gif)"
   ]
  },
  {
   "cell_type": "markdown",
   "id": "59708b7f-e614-4f2c-85fd-56288d87c574",
   "metadata": {},
   "source": [
    "One major disadvantage of transformers in general is their **size and computational requirements**. It is quite challenging to fit large, state-of-the-art transformer models into GPU-RAM and train them. This is why this implementation is very **minimal** for small image sizes with a very lean model (~210,000 parameters) and should be able to train with $<4$GB GPU-RAM while still achieving great results! It is based on [this](https://github.com/s-chh/PyTorch-Vision-Transformer-ViT-MNIST-CIFAR10) excellent code, which is faithful to the [original paper](https://arxiv.org/abs/2010.11929). Some implementation parts were also inspired by [Akshay Ballal](https://www.akshaymakes.com/blogs/vision-transformer) or [Nermin Nur Aydogan](https://github.com/nerminnuraydogan/vision-transformer)."
   ]
  },
  {
   "cell_type": "markdown",
   "id": "bde93ead-dc1b-441e-a89c-e69b9ecc6861",
   "metadata": {},
   "source": [
    "### Imports"
   ]
  },
  {
   "cell_type": "markdown",
   "id": "dad22ae9-f560-4ee4-b795-a693a4e6916f",
   "metadata": {},
   "source": [
    "As always, we start with the imports:"
   ]
  },
  {
   "cell_type": "code",
   "execution_count": 1,
   "id": "af406c55-2cd7-4005-a295-f8e3f1dd33e5",
   "metadata": {},
   "outputs": [],
   "source": [
    "import torch\n",
    "from torchvision import datasets, transforms\n",
    "from torchvision.transforms import v2\n",
    "import os\n",
    "import torch.nn as nn\n",
    "from torch import optim\n",
    "import numpy as np\n",
    "from sklearn.metrics import confusion_matrix, accuracy_score\n",
    "import matplotlib.pyplot as plt\n",
    "import time"
   ]
  },
  {
   "cell_type": "code",
   "execution_count": 2,
   "id": "0b881dcf-6b5c-4d40-8b7d-58341e8d00c7",
   "metadata": {},
   "outputs": [
    {
     "name": "stdout",
     "output_type": "stream",
     "text": [
      "2.3.0\n",
      "cuda available: True\n",
      "GPU: NVIDIA GeForce RTX 4090\n",
      "Using cuda\n"
     ]
    }
   ],
   "source": [
    "print(torch.__version__)\n",
    "#check if cuda is available\n",
    "cuda_available = torch.cuda.is_available()\n",
    "print(f\"cuda available: {cuda_available}\")\n",
    "if cuda_available:\n",
    "    print(f\"GPU: {torch.cuda.get_device_name(0)}\")\n",
    "\n",
    "USE_ONLY_CPU = False\n",
    "if USE_ONLY_CPU:\n",
    "    device = torch.device(\"cpu\")\n",
    "else:\n",
    "    device = torch.device(\"cuda\" if cuda_available else \"cpu\")\n",
    "print(f'Using {device}')\n",
    "\n",
    "# set random seed\n",
    "seed = 42\n",
    "torch.manual_seed(seed)\n",
    "np.random.seed(seed)\n",
    "torch.cuda.manual_seed(seed)\n",
    "torch.cuda.manual_seed_all(seed)\n",
    "torch.backends.cudnn.deterministic = True\n",
    "torch.backends.cudnn.benchmark = False"
   ]
  },
  {
   "cell_type": "markdown",
   "id": "2ee7f563-e86f-455b-a471-c2a348cde3c0",
   "metadata": {},
   "source": [
    "### Parameters"
   ]
  },
  {
   "cell_type": "markdown",
   "id": "9fe66a49-1706-455b-b8d8-018aa20e9495",
   "metadata": {},
   "source": [
    "We can set model and training hyperparameters here:"
   ]
  },
  {
   "cell_type": "code",
   "execution_count": 3,
   "id": "4a4bb035-c2d9-4d37-83ce-ca30fce0a199",
   "metadata": {},
   "outputs": [],
   "source": [
    "# Training parameters\n",
    "EPOCHS = 10\n",
    "WARMUP_EPOCHS = 10\n",
    "BATCH_SIZE = 128\n",
    "N_CLASSES = 10\n",
    "N_WORKERS = 0\n",
    "LR = 5e-4\n",
    "\n",
    "# Data parameters\n",
    "DATASET = 'fmnist'\n",
    "IMAGE_SIZE = 28\n",
    "PATCH_SIZE = 4\n",
    "N_CHANNELS = 1\n",
    "DATA_PATH = './data/'\n",
    "\n",
    "# ViT parameters\n",
    "EMBED_DIM = 64\n",
    "N_ATTENTION_HEADS = 4\n",
    "FORWARD_MUL = 2\n",
    "N_LAYERS = 6\n",
    "DROPOUT = 0.1\n",
    "MODEL_PATH = './models'\n",
    "LOAD_MODEL = False"
   ]
  },
  {
   "cell_type": "markdown",
   "id": "896f1502-1db1-4f0c-943c-9c75650706fb",
   "metadata": {},
   "source": [
    "### Load data"
   ]
  },
  {
   "cell_type": "markdown",
   "id": "33ef19ef-2565-408c-a5e8-1315fb93cb23",
   "metadata": {},
   "source": [
    "(original implementation in `data_loader.py`)"
   ]
  },
  {
   "cell_type": "markdown",
   "id": "9f6e2b49-2842-4c02-9e9d-84ad6807ca03",
   "metadata": {},
   "source": [
    "For this implementation example we want to use [fashion-mnist](https://github.com/zalandoresearch/fashion-mnist), which, as you already know from the introduction to PyTorch, is a more ecxiting drop-in replacement for the [mnist dataset](http://yann.lecun.com/exdb/mnist/). It contains grayscale images of size 28x28 pixels of fashion products in 10 classes. As mentioned earlier, the large computational requirements of transformer models restrict this introductory material towards smaller models and image sizes. \n",
    "\n",
    "The dataset can be imported as part of the `torchvision` module:"
   ]
  },
  {
   "cell_type": "code",
   "execution_count": 4,
   "id": "3f76c60b-7ae1-4b28-bd8c-7350cd1368f1",
   "metadata": {},
   "outputs": [],
   "source": [
    "train_transform = transforms.Compose([transforms.Resize([IMAGE_SIZE, IMAGE_SIZE]),\n",
    "                              transforms.RandomCrop(IMAGE_SIZE, padding=2), \n",
    "                              transforms.RandomHorizontalFlip(),\n",
    "                              transforms.ToTensor(),\n",
    "                              transforms.Normalize([0.5], [0.5])])\n",
    "train = datasets.FashionMNIST(os.path.join(DATA_PATH, DATASET), train=True, download=True, transform=train_transform)\n",
    "\n",
    "test_transform = transforms.Compose([v2.Resize([IMAGE_SIZE, IMAGE_SIZE]), transforms.ToTensor(), transforms.Normalize([0.5], [0.5])])\n",
    "test = datasets.FashionMNIST(os.path.join(DATA_PATH, DATASET), train=False, download=True, transform=test_transform)\n",
    "\n",
    "train_loader = torch.utils.data.DataLoader(dataset=train,\n",
    "                                             batch_size=BATCH_SIZE,\n",
    "                                             shuffle=True,\n",
    "                                             num_workers=N_WORKERS,\n",
    "                                             drop_last=True)\n",
    "\n",
    "test_loader = torch.utils.data.DataLoader(dataset=test,\n",
    "                                            batch_size=BATCH_SIZE,\n",
    "                                            shuffle=False,\n",
    "                                            num_workers=N_WORKERS,\n",
    "                                            drop_last=False)"
   ]
  },
  {
   "cell_type": "markdown",
   "id": "5f1d7cc8-d5dc-4839-8fda-20bcb00db8da",
   "metadata": {},
   "source": [
    "Next we can visualize some images together with the corresponding labels:"
   ]
  },
  {
   "cell_type": "code",
   "execution_count": 5,
   "id": "5677cce3-a5a2-469e-96f0-6eff02360489",
   "metadata": {},
   "outputs": [
    {
     "data": {
      "image/png": "[encoded data removed]",
      "text/plain": [
       "<Figure size 600x600 with 9 Axes>"
      ]
     },
     "metadata": {},
     "output_type": "display_data"
    }
   ],
   "source": [
    "labels_map={\n",
    "    0: 'T-shirt',\n",
    "    1: 'Trouser',\n",
    "    2: 'Pullover',\n",
    "    3: 'Dress',\n",
    "    4: 'Coat',\n",
    "    5: 'Sandal',\n",
    "    6: 'Shirt',\n",
    "    7: 'Sneaker',\n",
    "    8: 'Bag',\n",
    "    9: 'Ankle Boot',\n",
    "}\n",
    "\n",
    "figure = plt.figure(figsize = (6,6))\n",
    "cols, rows = 3, 3\n",
    "\n",
    "for i in range (1, cols*rows + 1):\n",
    "    sample_idx = torch.randint(len(train), size = (1,)).item()\n",
    "    image, label = train[sample_idx]\n",
    "    figure.add_subplot(rows, cols, i)\n",
    "    plt.title(labels_map[label])\n",
    "    plt.axis('off')\n",
    "    plt.imshow(image.squeeze(), cmap='gray_r')\n",
    "plt.show()"
   ]
  },
  {
   "cell_type": "markdown",
   "id": "6790a5cf-f412-4c1e-acbd-20a6a86eea24",
   "metadata": {},
   "source": [
    "### Create model"
   ]
  },
  {
   "cell_type": "markdown",
   "id": "59174d59-dc1d-4f94-9fb9-99e2766f172b",
   "metadata": {},
   "source": [
    "(original implementation in `model.py`)"
   ]
  },
  {
   "cell_type": "markdown",
   "id": "6000c491-0c60-4f87-9bfb-c77f8c49eb8c",
   "metadata": {},
   "source": [
    "At a very broad level, a Vision Transformer model has three core components:\n",
    "1. **Embedding layer**\n",
    "2. **Transformer Encoder**\n",
    "3. **Classification layer**\n",
    "\n",
    "This implementation explains all of these components in detail. It uses the following abbreviations to make the code more readable:\n",
    "* **B**: Batch size\n",
    "* **C**: Number of input channels\n",
    "* **IH**: Image height\n",
    "* **IW**: Image width\n",
    "* **P**: Patch size\n",
    "* **E**: Embedding dimension\n",
    "* **S**: Sequence length = IH/P * IW/P\n",
    "* **Q**: Query Sequence length (same as S for self-attention)\n",
    "* **K**: Key Sequence length (same as S for self-attention)\n",
    "* **V**: Value Sequence length (same as S for self-attention)\n",
    "* **H**: Number of heads\n",
    "* **HE**: Head Embedding Dimension = E/H"
   ]
  },
  {
   "cell_type": "markdown",
   "id": "d0434cfa-d413-48a3-acbd-b855911b7219",
   "metadata": {},
   "source": [
    "#### Component 1: Embedding layer"
   ]
  },
  {
   "cell_type": "markdown",
   "id": "38a8734f-1316-42fa-b262-dd5ab7d2c19f",
   "metadata": {},
   "source": [
    "The **Embedding layer** works in 3 steps:\n",
    "1. Patch and embed images\n",
    "2. Prepend a class token embedding vector to the learnable embeddings vectors\n",
    "3. Adds a position embedding to the learnable embeddings"
   ]
  },
  {
   "cell_type": "markdown",
   "id": "03a02b8f-e04e-4ad0-ba1e-e773133f3445",
   "metadata": {},
   "source": [
    "**Step 1: Patch and embed images**"
   ]
  },
  {
   "cell_type": "markdown",
   "id": "5b1adcb1-1235-4c8f-9cb3-6dcabffa0196",
   "metadata": {},
   "source": [
    "Images need to be transformed to patches to be useable by a vision transformer. Instead of just slicing the image, a [`Conv2d`](https://pytorch.org/docs/stable/generated/torch.nn.Conv2d.html) layer is being used as this is much more computationally efficient. With the right **kernel size** and **stride**, this layer will produce patches naturally and embed them. In this example we have 28x28 pixels per image which we convert into 49 patches of size 4x4. Each patch is embedded into 64 dimensions and finally being flattened along a single vector:"
   ]
  },
  {
   "cell_type": "markdown",
   "id": "77f8f9f9-0967-494e-86f2-44889c5e1841",
   "metadata": {},
   "source": [
    "<img src=\"./img/vit_patching.png\" width=600/>\n",
    "\n",
    "Inspired by [Akshay Ballal](https://www.akshaymakes.com/blogs/vision-transformer)"
   ]
  },
  {
   "cell_type": "markdown",
   "id": "dbfeb1fc-b509-43ca-8392-47abd8e3c89e",
   "metadata": {},
   "source": [
    "The **dimensions** can be seen with the following example:"
   ]
  },
  {
   "cell_type": "code",
   "execution_count": 6,
   "id": "780c1a5a-81c7-4d6f-9e69-954466fff684",
   "metadata": {},
   "outputs": [],
   "source": [
    "# Get a single example image without transformations\n",
    "vis_loader = torch.utils.data.DataLoader(dataset=train,\n",
    "                                         batch_size=1,\n",
    "                                         shuffle=False,\n",
    "                                         num_workers=N_WORKERS,\n",
    "                                         drop_last=True)\n",
    "\n",
    "images, _ = next(iter(vis_loader))"
   ]
  },
  {
   "cell_type": "code",
   "execution_count": 7,
   "id": "38878d90-9f84-4dbc-a6eb-a1802ca72dbe",
   "metadata": {},
   "outputs": [],
   "source": [
    "conv_layer = nn.Conv2d(in_channels = N_CHANNELS, out_channels = EMBED_DIM, kernel_size = PATCH_SIZE, stride = PATCH_SIZE)"
   ]
  },
  {
   "cell_type": "code",
   "execution_count": 8,
   "id": "cf018699-0da4-4780-8df4-e0a70c181811",
   "metadata": {},
   "outputs": [
    {
     "name": "stdout",
     "output_type": "stream",
     "text": [
      "Shape of embeddings through the conv layer -> [1, 64, 7, 7] <- [batch_size, num_of_patch_rows,num_patch_cols embedding_dims]\n",
      "Shape of embeddings through the flatten layer -> [1, 49, 64] <- [batch_size, num_of_patches, embedding_dims]\n"
     ]
    }
   ],
   "source": [
    "# Pass the image through the convolution layer\n",
    "image_through_conv = conv_layer(images)\n",
    "print(f'Shape of embeddings through the conv layer -> {list(image_through_conv.shape)} <- [batch_size, num_of_patch_rows,num_patch_cols embedding_dims]')\n",
    "\n",
    "# Permute the dimensions of image_through_conv to match the expected shape\n",
    "image_through_conv = image_through_conv.permute((0, 2, 3, 1))\n",
    "\n",
    "# Create a flatten layer using nn.Flatten\n",
    "flatten_layer = nn.Flatten(start_dim=1, end_dim=2)\n",
    "\n",
    "# Pass the image_through_conv through the flatten layer\n",
    "image_through_conv_and_flatten = flatten_layer(image_through_conv)\n",
    "\n",
    "# Print the shape of the embedded image\n",
    "print(f'Shape of embeddings through the flatten layer -> {list(image_through_conv_and_flatten.shape)} <- [batch_size, num_of_patches, embedding_dims]')\n",
    "\n",
    "# Assign the embedded image to a variable\n",
    "embedded_image = image_through_conv_and_flatten"
   ]
  },
  {
   "cell_type": "markdown",
   "id": "13d85a9b-7314-45ba-98c0-2f9937debb1f",
   "metadata": {},
   "source": [
    "These patches can be visualized with the following code, but keep in mind, that the model internally uses `Conv2d` layers to do so!"
   ]
  },
  {
   "cell_type": "code",
   "execution_count": 9,
   "id": "6b5ebb7e-ef94-4448-a78c-b990ac1451c3",
   "metadata": {},
   "outputs": [
    {
     "name": "stdout",
     "output_type": "stream",
     "text": [
      "Image shape:  (28, 28)\n",
      "Number of patches: 49 with resolution (4, 4)\n",
      "Patches shape:  (49, 4, 4, 1)\n",
      "Flattened patches shape:  (49, 16)\n"
     ]
    },
    {
     "data": {
      "image/png": "[encoded data removed]",
      "text/plain": [
       "<Figure size 640x480 with 50 Axes>"
      ]
     },
     "metadata": {},
     "output_type": "display_data"
    }
   ],
   "source": [
    "# convert to numpy array\n",
    "x = np.array(images.squeeze())\n",
    "\n",
    "# split image into patches using numpy\n",
    "patches = x.reshape(x.shape[0]//PATCH_SIZE, PATCH_SIZE, x.shape[1]//PATCH_SIZE, PATCH_SIZE, N_CHANNELS).swapaxes(1, 2).reshape(-1, PATCH_SIZE, PATCH_SIZE, N_CHANNELS)\n",
    "\n",
    "# flatten patches\n",
    "x_p = np.reshape(patches, (-1, PATCH_SIZE * PATCH_SIZE * N_CHANNELS))\n",
    "\n",
    "# get number of patches\n",
    "N = x_p.shape[0]\n",
    "\n",
    "print('Image shape: ', x.shape)  # width, height, channel\n",
    "print('Number of patches: {} with resolution ({}, {})'.format(N, PATCH_SIZE, PATCH_SIZE))\n",
    "print('Patches shape: ', patches.shape)\n",
    "print('Flattened patches shape: ', x_p.shape)\n",
    "\n",
    "# visualize data\n",
    "#\n",
    "# display image and patches side-by-side\n",
    "\n",
    "fig = plt.figure()\n",
    "\n",
    "gridspec = fig.add_gridspec(1, 2)\n",
    "ax1 = fig.add_subplot(gridspec[0])\n",
    "ax1.set(title='Image')\n",
    "\n",
    "# display image\n",
    "ax1.imshow(x,cmap='gray_r')\n",
    "\n",
    "subgridspec = gridspec[1].subgridspec(8, 8, hspace=-0.8)\n",
    "\n",
    "# display patches\n",
    "for i in range(IMAGE_SIZE//PATCH_SIZE):\n",
    "    for j in range(IMAGE_SIZE//PATCH_SIZE):\n",
    "        num = i * (IMAGE_SIZE//PATCH_SIZE) + j\n",
    "        ax = fig.add_subplot(subgridspec[i, j])\n",
    "        ax.set(xticks=[], yticks=[])\n",
    "        ax.imshow(patches[num],cmap='gray_r')"
   ]
  },
  {
   "cell_type": "markdown",
   "id": "a4407d2e-ba24-4aed-836d-893db4e842a1",
   "metadata": {},
   "source": [
    "**Step 2: Prepend a class token**"
   ]
  },
  {
   "cell_type": "markdown",
   "id": "17c3c645-32de-49f0-998d-c51c1c1b4d86",
   "metadata": {},
   "source": [
    "The *class token* is a special token added to the sequence of patch tokens. During the self-attention process, the class token interacts with all the patch tokens, aggregating information from them. This helps the model to gather a comprehensive understanding of the entire image. This token is learnable during training and it is initialized as `nn.Parameter` with `torch.zeros` in this example. It is prepended to the sequence of embedded patches with `torch.cat`:"
   ]
  },
  {
   "cell_type": "code",
   "execution_count": 10,
   "id": "3afa1826-ce05-4e7f-8258-82be4e0f2e44",
   "metadata": {},
   "outputs": [
    {
     "name": "stdout",
     "output_type": "stream",
     "text": [
      "Shape of class_token_embeddings --> [1, 1, 64] <-- [batch_size, 1, emdedding_dims]\n",
      "\n",
      "Shape of image embeddings with class_token_embeddings --> [1, 50, 64] <-- [batch_size, num_of_patches+1, embedding_dims]\n"
     ]
    }
   ],
   "source": [
    "class_token_embeddings = nn.Parameter(torch.zeros((1, 1,EMBED_DIM), requires_grad  = True))\n",
    "print(f'Shape of class_token_embeddings --> {list(class_token_embeddings.shape)} <-- [batch_size, 1, emdedding_dims]')\n",
    "\n",
    "embedded_image_with_class_token_embeddings = torch.cat((class_token_embeddings, embedded_image), dim = 1)\n",
    "print(f'\\nShape of image embeddings with class_token_embeddings --> {list(embedded_image_with_class_token_embeddings.shape)} <-- [batch_size, num_of_patches+1, embedding_dims]')"
   ]
  },
  {
   "cell_type": "markdown",
   "id": "4871a53b-fb01-416c-8322-d43004e21422",
   "metadata": {},
   "source": [
    "**Step 3: Adding a position embedding**"
   ]
  },
  {
   "cell_type": "markdown",
   "id": "a3ce6fb3-f0f3-4f0b-a414-ce141655eab2",
   "metadata": {},
   "source": [
    "To make patches position-aware, learnable *position embedding* vectors are added to the patch embedding vectors. The position embedding vectors learn distance within the image thus neighbouring ones have high similarity. This is again initialized as `torch.zeros` as `nn.Parameter`:"
   ]
  },
  {
   "cell_type": "code",
   "execution_count": 11,
   "id": "2a2dc256-c1f0-402b-b76f-5f6b018e6d25",
   "metadata": {},
   "outputs": [
    {
     "name": "stdout",
     "output_type": "stream",
     "text": [
      "\n",
      "Shape of position_embeddings --> [1, 50, 64] <-- [batch_size, num_patches+1, embeddings_dims]\n"
     ]
    }
   ],
   "source": [
    "position_embeddings = nn.Parameter(torch.zeros((1, (IMAGE_SIZE // PATCH_SIZE) ** 2+1, EMBED_DIM ), requires_grad = True ))\n",
    "print(f'\\nShape of position_embeddings --> {list(position_embeddings.shape)} <-- [batch_size, num_patches+1, embeddings_dims]')"
   ]
  },
  {
   "cell_type": "markdown",
   "id": "c2008747-6636-4380-9bf8-9cd0b2bf8494",
   "metadata": {},
   "source": [
    "**Combining all steps in the final Embedding layer**"
   ]
  },
  {
   "cell_type": "code",
   "execution_count": 12,
   "id": "e02fcbf2-860d-4d51-9c6c-9a8bb0330a8d",
   "metadata": {},
   "outputs": [],
   "source": [
    "class EmbedLayer(nn.Module):\n",
    "    def __init__(self, n_channels, embed_dim, image_size, patch_size, dropout=0.0):\n",
    "        super().__init__()\n",
    "        # Convolutional layer to convert image patches to embeddings\n",
    "        self.conv1 = nn.Conv2d(n_channels, embed_dim, kernel_size=patch_size, stride=patch_size)  # Pixel Encoding\n",
    "\n",
    "        # Classification token, learnable parameter\n",
    "        self.cls_token = nn.Parameter(torch.zeros(1, 1, embed_dim), requires_grad=True)\n",
    "        \n",
    "        # Positional embeddings for each patch + 1 for the classification token\n",
    "        self.pos_embedding = nn.Parameter(torch.zeros(1, (image_size // patch_size) ** 2 + 1, embed_dim), requires_grad=True)  # Positional Embedding\n",
    "        \n",
    "        # Dropout layer\n",
    "        self.dropout = nn.Dropout(dropout)\n",
    "\n",
    "    def forward(self, x):\n",
    "        # Convert image to patch embeddings\n",
    "        x = self.conv1(x)  # B C IH IW -> B E IH/P IW/P (Embedding the patches)\n",
    "\n",
    "        # Flatten the patch embeddings\n",
    "        x = x.reshape([x.shape[0], x.shape[1], -1])  # B E IH/P IW/P -> B E S (Flattening the patches)\n",
    "\n",
    "        # Transpose to match transformer input shape\n",
    "        x = x.transpose(1, 2)  # B E S -> B S E \n",
    "\n",
    "        # Add classification token at the start of each sequence\n",
    "        x = torch.cat((torch.repeat_interleave(self.cls_token, x.shape[0], 0), x), dim=1)  # Adding classification token at the start of every sequence\n",
    "        \n",
    "        # Add positional embeddings\n",
    "        x = x + self.pos_embedding  # Adding positional embedding\n",
    "        \n",
    "        # Apply dropout\n",
    "        x = self.dropout(x)\n",
    "        return x"
   ]
  },
  {
   "cell_type": "markdown",
   "id": "01bfd4a4-b1ed-464b-a49b-fbb07dc818c9",
   "metadata": {},
   "source": [
    "With this final step, we obtain the embeddings that have all the information that we want to pass on. Note also that we again use dropout for regularization purposes. We feed this resulting matrix into a stack of Transformer Encoders."
   ]
  },
  {
   "cell_type": "markdown",
   "id": "f450055c-5dee-4f09-b49d-742410d63e03",
   "metadata": {},
   "source": [
    "#### Component 2: Transformer Encoder"
   ]
  },
  {
   "cell_type": "markdown",
   "id": "142860d9-a659-4c5e-9f4a-83171666581d",
   "metadata": {},
   "source": [
    "In this part we implement the self-attention mechanism and use it to build the transformer encoder block. The query, key, and value projections are implemented with three linear layers `nn.linear`. An **output projection layer** `self.out_projection` is defined to project the concatenated attention head outputs back to the original embedding dimension. In the forward function `forward(self,x)`, the input is **projected into queries, keys, and values, reshaped, and then transposed** to separate the attention heads. The query and key matrices are **multiplied to compute the raw attention scores**. The attention scores are **scaled** by the square root of the head embedding dimension for numerical stability. The scaled attention scores are passed through a **softmax function** to obtain attention weights. Finally, the attention weights are used to compute a **weighted sum** of the values."
   ]
  },
  {
   "cell_type": "code",
   "execution_count": 13,
   "id": "282cc24b-a680-4b83-a530-b27e0eb240b2",
   "metadata": {},
   "outputs": [],
   "source": [
    "class SelfAttention(nn.Module):\n",
    "    def __init__(self, embed_dim, n_attention_heads):\n",
    "        super().__init__()\n",
    "        self.embed_dim = embed_dim\n",
    "        self.n_attention_heads = n_attention_heads\n",
    "        self.head_embed_dim = embed_dim // n_attention_heads\n",
    "\n",
    "        # Linear layers for query, key, and value projections\n",
    "        self.queries = nn.Linear(self.embed_dim, self.head_embed_dim * self.n_attention_heads) # Queries projection\n",
    "        self.keys = nn.Linear(self.embed_dim, self.head_embed_dim * self.n_attention_heads)    # Keys projection\n",
    "        self.values = nn.Linear(self.embed_dim, self.head_embed_dim * self.n_attention_heads)  # Values projection\n",
    "\n",
    "        # Output projection layer\n",
    "        self.out_projection = nn.Linear(self.embed_dim, self.embed_dim)\n",
    "\n",
    "    def forward(self, x):\n",
    "        b, s, e = x.shape\n",
    "\n",
    "        # Project inputs to queries, keys, and values\n",
    "        xq = self.queries(x).reshape(b, s, self.n_attention_heads, self.head_embed_dim)  # B, Q, E -> B, Q, H, HE\n",
    "        xq = xq.transpose(1, 2)  # B, Q, H, HE -> B, H, Q, HE\n",
    "        xk = self.keys(x).reshape(b, s, self.n_attention_heads, self.head_embed_dim)  # B, K, E -> B, K, H, HE\n",
    "        xk = xk.transpose(1, 2)  # B, K, H, HE -> B, H, K, HE\n",
    "        xv = self.values(x).reshape(b, s, self.n_attention_heads, self.head_embed_dim)  # B, V, E -> B, V, H, HE\n",
    "        xv = xv.transpose(1, 2)  # B, V, H, HE -> B, H, V, HE\n",
    "\n",
    "        # Compute Attention presoftmax values\n",
    "        xk = xk.transpose(-1, -2)  # B, H, K, HE -> B, H, HE, K\n",
    "        x_attention = torch.matmul(xq, xk)  # B, H, Q, HE  *  B, H, HE, K -> B, H, Q, K\n",
    "\n",
    "        # Scale presoftmax values for stability\n",
    "        x_attention /= float(self.head_embed_dim) ** 0.5\n",
    "\n",
    "        # Compute Attention Matrix\n",
    "        x_attention = torch.softmax(x_attention, dim=-1)\n",
    "\n",
    "        # Compute Attention Values\n",
    "        x = torch.matmul(x_attention, xv)  # B, H, Q, K * B, H, V, HE -> B, H, Q, HE\n",
    "\n",
    "        # Format the output\n",
    "        x = x.transpose(1, 2)  # B, H, Q, HE -> B, Q, H, HE\n",
    "        x = x.reshape(b, s, e)  # B, Q, H, HE -> B, Q, E\n",
    "        x = self.out_projection(x)  # B, Q, E -> B, Q, E\n",
    "        return x"
   ]
  },
  {
   "cell_type": "markdown",
   "id": "0afd85cf-4890-42a7-bb97-d52d13e1d52f",
   "metadata": {},
   "source": [
    "What follows is a very straightforward implementation of the transformer encoder, using our `SelfAttention` class from above, together with the **layer normalization** `nn.LayerNorm`, **dropout** `nn.Dropout`, and **MLP layers** `nn.Linear`:"
   ]
  },
  {
   "cell_type": "code",
   "execution_count": 14,
   "id": "f504ed40-75d8-4544-91a1-f752b229c48c",
   "metadata": {},
   "outputs": [],
   "source": [
    "class Encoder(nn.Module):\n",
    "    def __init__(self, embed_dim, n_attention_heads, forward_mul, dropout=0.0):\n",
    "        super().__init__()\n",
    "        # Layer normalization and self-attention layer\n",
    "        self.norm1 = nn.LayerNorm(embed_dim)\n",
    "        self.attention = SelfAttention(embed_dim, n_attention_heads)\n",
    "        self.dropout1 = nn.Dropout(dropout)\n",
    "\n",
    "        # Feed-forward network layers\n",
    "        self.norm2 = nn.LayerNorm(embed_dim)\n",
    "        self.fc1 = nn.Linear(embed_dim, embed_dim * forward_mul)\n",
    "        self.activation = nn.GELU()\n",
    "        self.fc2 = nn.Linear(embed_dim * forward_mul, embed_dim)\n",
    "        self.dropout2 = nn.Dropout(dropout)\n",
    "\n",
    "    def forward(self, x):\n",
    "        # Apply self-attention with skip connection\n",
    "        x = x + self.dropout1(self.attention(self.norm1(x)))\n",
    "\n",
    "        # Apply feed-forward network with skip connection\n",
    "        x = x + self.dropout2(self.fc2(self.activation(self.fc1(self.norm2(x)))))\n",
    "        return x"
   ]
  },
  {
   "cell_type": "markdown",
   "id": "16bb5d30-ec1a-400e-a878-9bd87df0f79f",
   "metadata": {},
   "source": [
    "#### Component 3: Classifier"
   ]
  },
  {
   "cell_type": "markdown",
   "id": "1ad554e7-6597-4f14-a879-9b4ad9301a2e",
   "metadata": {},
   "source": [
    "The classifier is composed of two hidden layers of a Multi-Layer Perceptron (MLP) `nn.Linear` with a tanh `nn.Tanh` activation function in-between the hidden layers. The final output of this classification head is the prediction for the image classification task. By using a *class token*, the model can directly map the summarized information to the desired output classes."
   ]
  },
  {
   "cell_type": "code",
   "execution_count": 15,
   "id": "cd2579f4-4d9b-4106-870b-bab71e7d578a",
   "metadata": {},
   "outputs": [],
   "source": [
    "class Classifier(nn.Module):\n",
    "    def __init__(self, embed_dim, n_classes):\n",
    "        super().__init__()\n",
    "        # Linear layers for classification\n",
    "        # New architectures skip fc1 and activations and directly apply fc2.\n",
    "        self.fc1 = nn.Linear(embed_dim, embed_dim)\n",
    "        self.activation = nn.Tanh()\n",
    "        self.fc2 = nn.Linear(embed_dim, n_classes)\n",
    "\n",
    "    def forward(self, x):\n",
    "        # Use only the classification token for prediction\n",
    "        x = x[:, 0, :]\n",
    "        x = self.fc1(x)\n",
    "        x = self.activation(x)\n",
    "        x = self.fc2(x)\n",
    "        return x"
   ]
  },
  {
   "cell_type": "markdown",
   "id": "f822bc50-7c8d-4036-81db-a317a8ec53ce",
   "metadata": {},
   "source": [
    "#### Combining everything to a ViT"
   ]
  },
  {
   "cell_type": "markdown",
   "id": "659d0f81-328f-4c58-b218-9be6e8102214",
   "metadata": {},
   "source": [
    "We can now combine all these components to create the final ViT model:"
   ]
  },
  {
   "cell_type": "code",
   "execution_count": 16,
   "id": "a7f404f1-119a-4dc8-8234-59d40b15812c",
   "metadata": {},
   "outputs": [],
   "source": [
    "class VisionTransformer(nn.Module):\n",
    "    def __init__(self, n_channels, embed_dim, n_layers, n_attention_heads, forward_mul, image_size, patch_size, n_classes, dropout=0.1):\n",
    "        super().__init__()\n",
    "        # Embedding layer\n",
    "        self.embedding = EmbedLayer(n_channels, embed_dim, image_size, patch_size, dropout=dropout)\n",
    "\n",
    "        # Encoder layers\n",
    "        self.encoder = nn.ModuleList([Encoder(embed_dim, n_attention_heads, forward_mul, dropout=dropout) for _ in range(n_layers)])\n",
    "        \n",
    "        # Final normalization layer\n",
    "        self.norm = nn.LayerNorm(embed_dim)\n",
    "\n",
    "        # Classifier\n",
    "        self.classifier = Classifier(embed_dim, n_classes)\n",
    "\n",
    "        # Initialize weights\n",
    "        self.apply(vit_init_weights)\n",
    "\n",
    "    def forward(self, x):\n",
    "        # Apply embedding and encoder layers\n",
    "        x = self.embedding(x)\n",
    "        for block in self.encoder:\n",
    "            x = block(x)\n",
    "        x = self.norm(x)\n",
    "        x = self.classifier(x)\n",
    "        return x"
   ]
  },
  {
   "cell_type": "markdown",
   "id": "55c9dcfb-3a63-4178-9431-1edcfdc7410d",
   "metadata": {},
   "source": [
    "Model weights are initialized as follows:"
   ]
  },
  {
   "cell_type": "code",
   "execution_count": 17,
   "id": "df71df6b-3afa-4124-9a80-32f46d78931d",
   "metadata": {},
   "outputs": [],
   "source": [
    "def vit_init_weights(m): \n",
    "    # Initialize weights for Conv2d and Linear layers\n",
    "    if isinstance(m, nn.Conv2d) or isinstance(m, nn.Linear):\n",
    "        nn.init.trunc_normal_(m.weight, mean=0.0, std=0.02)\n",
    "        if m.bias is not None:\n",
    "            nn.init.constant_(m.bias, 0)\n",
    "\n",
    "    # Initialize weights for LayerNorm\n",
    "    elif isinstance(m, nn.LayerNorm):\n",
    "        nn.init.constant_(m.weight, 1)\n",
    "        nn.init.constant_(m.bias, 0)\n",
    "\n",
    "    # Initialize weights for EmbedLayer\n",
    "    elif isinstance(m, EmbedLayer):\n",
    "        nn.init.trunc_normal_(m.cls_token, mean=0.0, std=0.02)\n",
    "        nn.init.trunc_normal_(m.pos_embedding, mean=0.0, std=0.02)"
   ]
  },
  {
   "cell_type": "markdown",
   "id": "963194f9-623a-4fa8-987c-5b6e0b2639df",
   "metadata": {},
   "source": [
    "We can now initialize the model:"
   ]
  },
  {
   "cell_type": "code",
   "execution_count": 18,
   "id": "47d1c12e-b074-437c-b2fb-5defaac68119",
   "metadata": {},
   "outputs": [],
   "source": [
    "# Initialize model\n",
    "model = VisionTransformer(n_channels=N_CHANNELS, embed_dim=EMBED_DIM, \n",
    "                          n_layers=N_LAYERS, n_attention_heads=N_ATTENTION_HEADS, \n",
    "                          forward_mul=FORWARD_MUL, image_size=IMAGE_SIZE, \n",
    "                          patch_size=PATCH_SIZE, n_classes=N_CLASSES, dropout=DROPOUT)"
   ]
  },
  {
   "cell_type": "code",
   "execution_count": 19,
   "id": "9fbee63d-7653-46a8-b770-d8a5e95ffb7d",
   "metadata": {},
   "outputs": [],
   "source": [
    "# Load model parameters to cuda\n",
    "model = model.to(device)"
   ]
  },
  {
   "cell_type": "code",
   "execution_count": 20,
   "id": "4d4aa013-d341-43a8-818a-259f821322b1",
   "metadata": {
    "scrolled": true
   },
   "outputs": [
    {
     "data": {
      "text/plain": [
       "VisionTransformer(\n",
       "  (embedding): EmbedLayer(\n",
       "    (conv1): Conv2d(1, 64, kernel_size=(4, 4), stride=(4, 4))\n",
       "    (dropout): Dropout(p=0.1, inplace=False)\n",
       "  )\n",
       "  (encoder): ModuleList(\n",
       "    (0-5): 6 x Encoder(\n",
       "      (norm1): LayerNorm((64,), eps=1e-05, elementwise_affine=True)\n",
       "      (attention): SelfAttention(\n",
       "        (queries): Linear(in_features=64, out_features=64, bias=True)\n",
       "        (keys): Linear(in_features=64, out_features=64, bias=True)\n",
       "        (values): Linear(in_features=64, out_features=64, bias=True)\n",
       "        (out_projection): Linear(in_features=64, out_features=64, bias=True)\n",
       "      )\n",
       "      (dropout1): Dropout(p=0.1, inplace=False)\n",
       "      (norm2): LayerNorm((64,), eps=1e-05, elementwise_affine=True)\n",
       "      (fc1): Linear(in_features=64, out_features=128, bias=True)\n",
       "      (activation): GELU(approximate='none')\n",
       "      (fc2): Linear(in_features=128, out_features=64, bias=True)\n",
       "      (dropout2): Dropout(p=0.1, inplace=False)\n",
       "    )\n",
       "  )\n",
       "  (norm): LayerNorm((64,), eps=1e-05, elementwise_affine=True)\n",
       "  (classifier): Classifier(\n",
       "    (fc1): Linear(in_features=64, out_features=64, bias=True)\n",
       "    (activation): Tanh()\n",
       "    (fc2): Linear(in_features=64, out_features=10, bias=True)\n",
       "  )\n",
       ")"
      ]
     },
     "execution_count": 20,
     "metadata": {},
     "output_type": "execute_result"
    }
   ],
   "source": [
    "# Show model architecture\n",
    "model"
   ]
  },
  {
   "cell_type": "code",
   "execution_count": 21,
   "id": "5b17e6e2-b1ad-496b-98ca-ede4bffdea19",
   "metadata": {},
   "outputs": [
    {
     "name": "stdout",
     "output_type": "stream",
     "text": [
      "Model has 210,122 learnable parameters\n"
     ]
    }
   ],
   "source": [
    "# Show number of model parameters\n",
    "params =  sum(p.numel() for p in model.parameters() if p.requires_grad)\n",
    "print(f\"Model has {params:,} learnable parameters\")   "
   ]
  },
  {
   "cell_type": "markdown",
   "id": "6f885771-65eb-4ce0-b6aa-2bcafd7a8fa2",
   "metadata": {},
   "source": [
    "As you can see, this configuration is very lean and uses quite a small number of parameters. Let's see if it still performs well on this dataset!"
   ]
  },
  {
   "cell_type": "markdown",
   "id": "af113058-a75b-47c2-9a32-fc2b1f4a704b",
   "metadata": {},
   "source": [
    "### Training"
   ]
  },
  {
   "cell_type": "markdown",
   "id": "d3bd7fd9-f163-4c0c-968b-bfb60eb67164",
   "metadata": {},
   "source": [
    "(original implementation in `solver.py`)"
   ]
  },
  {
   "cell_type": "markdown",
   "id": "30589eaf-5d18-4aa8-a437-ffcb318b7494",
   "metadata": {},
   "source": [
    "To following code to train the model is quite similar to code we have already seen and used in other lectures. One important difference is the usage of **schedulers** `optim.lr_scheduler.LinearLR` and `optim.lr_scheduler.CosineAnnealingLR`. These schedulers adapt the learning rate dynamically during training, which helps the model converge and achieve better performance (for object detection we adapted the learning rate by hand ...)."
   ]
  },
  {
   "cell_type": "code",
   "execution_count": 22,
   "id": "42009099-60d5-411f-9d41-1b2c08be733d",
   "metadata": {},
   "outputs": [],
   "source": [
    "train_losses = []\n",
    "train_accuracies = []\n",
    "test_losses = []\n",
    "test_accuracies = []"
   ]
  },
  {
   "cell_type": "code",
   "execution_count": 23,
   "id": "afd86e3a-0e81-479e-b425-7df1b91a21ce",
   "metadata": {},
   "outputs": [],
   "source": [
    "def test_dataset(model,loss_fn,loader):\n",
    "    # Set Vision Transformer to evaluation mode\n",
    "    model.eval()\n",
    "\n",
    "    # Arrays to record all labels and logits\n",
    "    all_labels = []\n",
    "    all_logits = []\n",
    "\n",
    "    # Testing loop\n",
    "    for (x, y) in loader:\n",
    "        x = x.cuda()\n",
    "\n",
    "        # Avoid capturing gradients in evaluation time for faster speed\n",
    "        with torch.no_grad():\n",
    "            logits = model(x)\n",
    "\n",
    "        all_labels.append(y)\n",
    "        all_logits.append(logits.cpu())\n",
    "\n",
    "    # Convert all captured variables to torch\n",
    "    all_labels = torch.cat(all_labels)\n",
    "    all_logits = torch.cat(all_logits)\n",
    "    all_pred = all_logits.max(1)[1]\n",
    "    \n",
    "    # Compute loss, accuracy and confusion matrix\n",
    "    loss = loss_fn(all_logits, all_labels).item()\n",
    "    acc = accuracy_score(y_true=all_labels, y_pred=all_pred)\n",
    "    cm = confusion_matrix(y_true=all_labels, y_pred=all_pred, labels=range(N_CLASSES))\n",
    "\n",
    "    return acc, cm, loss\n",
    "\n",
    "def test(model,loss_fn,train_loader,test_loader):\n",
    "    # Test using test loader\n",
    "    acc, cm, loss = test_dataset(model,loss_fn,test_loader)\n",
    "    print(f\"Test acc: {acc:.2%}\\tTest loss: {loss:.4f}\")\n",
    "    # Optional: print confusion matrix\n",
    "    #print(cm)\n",
    "\n",
    "    return acc, loss"
   ]
  },
  {
   "cell_type": "code",
   "execution_count": 24,
   "id": "8b111307-5916-4482-ac33-5d8c6b334043",
   "metadata": {},
   "outputs": [
    {
     "name": "stdout",
     "output_type": "stream",
     "text": [
      "Ep: 1/10\tIt: 1/468\tbatch_loss: 2.3056\tbatch_accuracy: 7.03%\n",
      "Ep: 1/10\tIt: 51/468\tbatch_loss: 2.2498\tbatch_accuracy: 22.66%\n",
      "Ep: 1/10\tIt: 101/468\tbatch_loss: 2.1745\tbatch_accuracy: 23.44%\n",
      "Ep: 1/10\tIt: 151/468\tbatch_loss: 2.0838\tbatch_accuracy: 22.66%\n",
      "Ep: 1/10\tIt: 201/468\tbatch_loss: 2.0024\tbatch_accuracy: 18.75%\n",
      "Ep: 1/10\tIt: 251/468\tbatch_loss: 1.9290\tbatch_accuracy: 32.81%\n",
      "Ep: 1/10\tIt: 301/468\tbatch_loss: 1.9089\tbatch_accuracy: 30.47%\n",
      "Ep: 1/10\tIt: 351/468\tbatch_loss: 1.8333\tbatch_accuracy: 35.94%\n",
      "Ep: 1/10\tIt: 401/468\tbatch_loss: 1.8103\tbatch_accuracy: 27.34%\n",
      "Ep: 1/10\tIt: 451/468\tbatch_loss: 1.9060\tbatch_accuracy: 24.22%\n",
      "Ep: 1/10\tIt: 468/468\tbatch_loss: 1.7949\tbatch_accuracy: 25.00%\n",
      "Training time for epoch 0 in minutes: 0.26\n",
      "------------\n",
      "Train acc: 25.14%\tTrain loss: 2.0050\n",
      "Test acc: 28.26%\tTest loss: 1.8861\n",
      "Best test acc: 28.26%\n",
      "New model saved!\n",
      "\n",
      "Ep: 2/10\tIt: 1/468\tbatch_loss: 1.8398\tbatch_accuracy: 30.47%\n",
      "Ep: 2/10\tIt: 51/468\tbatch_loss: 1.8124\tbatch_accuracy: 22.66%\n",
      "Ep: 2/10\tIt: 101/468\tbatch_loss: 1.7866\tbatch_accuracy: 24.22%\n",
      "Ep: 2/10\tIt: 151/468\tbatch_loss: 1.7640\tbatch_accuracy: 38.28%\n",
      "Ep: 2/10\tIt: 201/468\tbatch_loss: 1.5838\tbatch_accuracy: 36.72%\n",
      "Ep: 2/10\tIt: 251/468\tbatch_loss: 1.5291\tbatch_accuracy: 42.97%\n",
      "Ep: 2/10\tIt: 301/468\tbatch_loss: 1.6008\tbatch_accuracy: 40.62%\n",
      "Ep: 2/10\tIt: 351/468\tbatch_loss: 1.5908\tbatch_accuracy: 46.88%\n",
      "Ep: 2/10\tIt: 401/468\tbatch_loss: 1.4079\tbatch_accuracy: 42.97%\n",
      "Ep: 2/10\tIt: 451/468\tbatch_loss: 1.8350\tbatch_accuracy: 36.72%\n",
      "Ep: 2/10\tIt: 468/468\tbatch_loss: 1.5601\tbatch_accuracy: 46.09%\n",
      "Training time for epoch 1 in minutes: 0.26\n",
      "------------\n",
      "Train acc: 36.96%\tTrain loss: 1.6395\n",
      "Test acc: 39.21%\tTest loss: 1.6612\n",
      "Best test acc: 39.21%\n",
      "New model saved!\n",
      "\n",
      "Ep: 3/10\tIt: 1/468\tbatch_loss: 1.5851\tbatch_accuracy: 39.84%\n",
      "Ep: 3/10\tIt: 51/468\tbatch_loss: 1.4182\tbatch_accuracy: 44.53%\n",
      "Ep: 3/10\tIt: 101/468\tbatch_loss: 1.5863\tbatch_accuracy: 37.50%\n",
      "Ep: 3/10\tIt: 151/468\tbatch_loss: 1.3495\tbatch_accuracy: 53.12%\n",
      "Ep: 3/10\tIt: 201/468\tbatch_loss: 1.3502\tbatch_accuracy: 48.44%\n",
      "Ep: 3/10\tIt: 251/468\tbatch_loss: 1.1292\tbatch_accuracy: 59.38%\n",
      "Ep: 3/10\tIt: 301/468\tbatch_loss: 1.1739\tbatch_accuracy: 54.69%\n",
      "Ep: 3/10\tIt: 351/468\tbatch_loss: 1.1495\tbatch_accuracy: 58.59%\n",
      "Ep: 3/10\tIt: 401/468\tbatch_loss: 1.1163\tbatch_accuracy: 56.25%\n",
      "Ep: 3/10\tIt: 451/468\tbatch_loss: 1.0490\tbatch_accuracy: 67.19%\n",
      "Ep: 3/10\tIt: 468/468\tbatch_loss: 0.9835\tbatch_accuracy: 63.28%\n",
      "Training time for epoch 2 in minutes: 0.26\n",
      "------------\n",
      "Train acc: 53.79%\tTrain loss: 1.2584\n",
      "Test acc: 62.80%\tTest loss: 1.0346\n",
      "Best test acc: 62.80%\n",
      "New model saved!\n",
      "\n",
      "Ep: 4/10\tIt: 1/468\tbatch_loss: 1.1910\tbatch_accuracy: 52.34%\n",
      "Ep: 4/10\tIt: 51/468\tbatch_loss: 0.9521\tbatch_accuracy: 62.50%\n",
      "Ep: 4/10\tIt: 101/468\tbatch_loss: 0.9331\tbatch_accuracy: 69.53%\n",
      "Ep: 4/10\tIt: 151/468\tbatch_loss: 0.9862\tbatch_accuracy: 66.41%\n",
      "Ep: 4/10\tIt: 201/468\tbatch_loss: 1.0254\tbatch_accuracy: 64.84%\n",
      "Ep: 4/10\tIt: 251/468\tbatch_loss: 0.8633\tbatch_accuracy: 68.75%\n",
      "Ep: 4/10\tIt: 301/468\tbatch_loss: 0.7905\tbatch_accuracy: 75.78%\n",
      "Ep: 4/10\tIt: 351/468\tbatch_loss: 0.9167\tbatch_accuracy: 67.97%\n",
      "Ep: 4/10\tIt: 401/468\tbatch_loss: 0.9137\tbatch_accuracy: 63.28%\n",
      "Ep: 4/10\tIt: 451/468\tbatch_loss: 0.9290\tbatch_accuracy: 64.84%\n",
      "Ep: 4/10\tIt: 468/468\tbatch_loss: 0.7949\tbatch_accuracy: 73.44%\n",
      "Training time for epoch 3 in minutes: 0.26\n",
      "------------\n",
      "Train acc: 66.19%\tTrain loss: 0.9294\n",
      "Test acc: 69.53%\tTest loss: 0.8244\n",
      "Best test acc: 69.53%\n",
      "New model saved!\n",
      "\n",
      "Ep: 5/10\tIt: 1/468\tbatch_loss: 0.8975\tbatch_accuracy: 71.09%\n",
      "Ep: 5/10\tIt: 51/468\tbatch_loss: 0.8350\tbatch_accuracy: 72.66%\n",
      "Ep: 5/10\tIt: 101/468\tbatch_loss: 0.9114\tbatch_accuracy: 68.75%\n",
      "Ep: 5/10\tIt: 151/468\tbatch_loss: 0.7253\tbatch_accuracy: 74.22%\n",
      "Ep: 5/10\tIt: 201/468\tbatch_loss: 0.8030\tbatch_accuracy: 64.84%\n",
      "Ep: 5/10\tIt: 251/468\tbatch_loss: 0.8461\tbatch_accuracy: 71.09%\n",
      "Ep: 5/10\tIt: 301/468\tbatch_loss: 0.7279\tbatch_accuracy: 71.88%\n",
      "Ep: 5/10\tIt: 351/468\tbatch_loss: 0.8548\tbatch_accuracy: 74.22%\n",
      "Ep: 5/10\tIt: 401/468\tbatch_loss: 0.8211\tbatch_accuracy: 67.97%\n",
      "Ep: 5/10\tIt: 451/468\tbatch_loss: 0.7000\tbatch_accuracy: 72.66%\n",
      "Ep: 5/10\tIt: 468/468\tbatch_loss: 0.6510\tbatch_accuracy: 79.69%\n",
      "Training time for epoch 4 in minutes: 0.26\n",
      "------------\n",
      "Train acc: 69.83%\tTrain loss: 0.8140\n",
      "Test acc: 71.15%\tTest loss: 0.7714\n",
      "Best test acc: 71.15%\n",
      "New model saved!\n",
      "\n",
      "Ep: 6/10\tIt: 1/468\tbatch_loss: 0.8301\tbatch_accuracy: 70.31%\n",
      "Ep: 6/10\tIt: 51/468\tbatch_loss: 0.7520\tbatch_accuracy: 75.78%\n",
      "Ep: 6/10\tIt: 101/468\tbatch_loss: 0.7486\tbatch_accuracy: 69.53%\n",
      "Ep: 6/10\tIt: 151/468\tbatch_loss: 0.6989\tbatch_accuracy: 71.09%\n",
      "Ep: 6/10\tIt: 201/468\tbatch_loss: 0.8980\tbatch_accuracy: 61.72%\n",
      "Ep: 6/10\tIt: 251/468\tbatch_loss: 0.8974\tbatch_accuracy: 67.97%\n",
      "Ep: 6/10\tIt: 301/468\tbatch_loss: 0.8566\tbatch_accuracy: 71.88%\n",
      "Ep: 6/10\tIt: 351/468\tbatch_loss: 0.7728\tbatch_accuracy: 70.31%\n",
      "Ep: 6/10\tIt: 401/468\tbatch_loss: 0.6087\tbatch_accuracy: 75.00%\n",
      "Ep: 6/10\tIt: 451/468\tbatch_loss: 0.6919\tbatch_accuracy: 74.22%\n",
      "Ep: 6/10\tIt: 468/468\tbatch_loss: 0.7306\tbatch_accuracy: 68.75%\n",
      "Training time for epoch 5 in minutes: 0.26\n",
      "------------\n",
      "Train acc: 72.09%\tTrain loss: 0.7452\n",
      "Test acc: 73.86%\tTest loss: 0.7072\n",
      "Best test acc: 73.86%\n",
      "New model saved!\n",
      "\n",
      "Ep: 7/10\tIt: 1/468\tbatch_loss: 0.7664\tbatch_accuracy: 68.75%\n",
      "Ep: 7/10\tIt: 51/468\tbatch_loss: 0.9000\tbatch_accuracy: 65.62%\n",
      "Ep: 7/10\tIt: 101/468\tbatch_loss: 0.7580\tbatch_accuracy: 72.66%\n",
      "Ep: 7/10\tIt: 151/468\tbatch_loss: 0.9861\tbatch_accuracy: 64.84%\n",
      "Ep: 7/10\tIt: 201/468\tbatch_loss: 0.6465\tbatch_accuracy: 75.00%\n",
      "Ep: 7/10\tIt: 251/468\tbatch_loss: 0.7404\tbatch_accuracy: 64.06%\n",
      "Ep: 7/10\tIt: 301/468\tbatch_loss: 0.8218\tbatch_accuracy: 74.22%\n",
      "Ep: 7/10\tIt: 351/468\tbatch_loss: 0.7062\tbatch_accuracy: 72.66%\n",
      "Ep: 7/10\tIt: 401/468\tbatch_loss: 0.6063\tbatch_accuracy: 80.47%\n",
      "Ep: 7/10\tIt: 451/468\tbatch_loss: 0.6817\tbatch_accuracy: 77.34%\n",
      "Ep: 7/10\tIt: 468/468\tbatch_loss: 0.7846\tbatch_accuracy: 65.62%\n",
      "Training time for epoch 6 in minutes: 0.26\n",
      "------------\n",
      "Train acc: 73.73%\tTrain loss: 0.6996\n",
      "Test acc: 74.61%\tTest loss: 0.6647\n",
      "Best test acc: 74.61%\n",
      "New model saved!\n",
      "\n",
      "Ep: 8/10\tIt: 1/468\tbatch_loss: 0.5953\tbatch_accuracy: 75.00%\n",
      "Ep: 8/10\tIt: 51/468\tbatch_loss: 0.5679\tbatch_accuracy: 81.25%\n",
      "Ep: 8/10\tIt: 101/468\tbatch_loss: 0.8079\tbatch_accuracy: 68.75%\n",
      "Ep: 8/10\tIt: 151/468\tbatch_loss: 0.6959\tbatch_accuracy: 73.44%\n",
      "Ep: 8/10\tIt: 201/468\tbatch_loss: 0.6110\tbatch_accuracy: 80.47%\n",
      "Ep: 8/10\tIt: 251/468\tbatch_loss: 0.6141\tbatch_accuracy: 75.00%\n",
      "Ep: 8/10\tIt: 301/468\tbatch_loss: 0.5431\tbatch_accuracy: 81.25%\n",
      "Ep: 8/10\tIt: 351/468\tbatch_loss: 0.6622\tbatch_accuracy: 75.00%\n",
      "Ep: 8/10\tIt: 401/468\tbatch_loss: 0.6299\tbatch_accuracy: 80.47%\n",
      "Ep: 8/10\tIt: 451/468\tbatch_loss: 0.6331\tbatch_accuracy: 76.56%\n",
      "Ep: 8/10\tIt: 468/468\tbatch_loss: 0.5583\tbatch_accuracy: 79.69%\n",
      "Training time for epoch 7 in minutes: 0.26\n",
      "------------\n",
      "Train acc: 74.84%\tTrain loss: 0.6663\n",
      "Test acc: 78.97%\tTest loss: 0.5718\n",
      "Best test acc: 78.97%\n",
      "New model saved!\n",
      "\n",
      "Ep: 9/10\tIt: 1/468\tbatch_loss: 0.6894\tbatch_accuracy: 74.22%\n",
      "Ep: 9/10\tIt: 51/468\tbatch_loss: 0.6665\tbatch_accuracy: 73.44%\n",
      "Ep: 9/10\tIt: 101/468\tbatch_loss: 0.5774\tbatch_accuracy: 77.34%\n",
      "Ep: 9/10\tIt: 151/468\tbatch_loss: 0.6454\tbatch_accuracy: 77.34%\n",
      "Ep: 9/10\tIt: 201/468\tbatch_loss: 0.6357\tbatch_accuracy: 74.22%\n",
      "Ep: 9/10\tIt: 251/468\tbatch_loss: 0.5033\tbatch_accuracy: 82.81%\n",
      "Ep: 9/10\tIt: 301/468\tbatch_loss: 0.6629\tbatch_accuracy: 73.44%\n",
      "Ep: 9/10\tIt: 351/468\tbatch_loss: 0.6228\tbatch_accuracy: 77.34%\n",
      "Ep: 9/10\tIt: 401/468\tbatch_loss: 0.6195\tbatch_accuracy: 72.66%\n",
      "Ep: 9/10\tIt: 451/468\tbatch_loss: 0.5825\tbatch_accuracy: 75.78%\n",
      "Ep: 9/10\tIt: 468/468\tbatch_loss: 0.6168\tbatch_accuracy: 75.78%\n",
      "Training time for epoch 8 in minutes: 0.26\n",
      "------------\n",
      "Train acc: 76.16%\tTrain loss: 0.6385\n",
      "Test acc: 78.76%\tTest loss: 0.5714\n",
      "Best test acc: 78.97%\n",
      "Ep: 10/10\tIt: 1/468\tbatch_loss: 0.7890\tbatch_accuracy: 70.31%\n",
      "Ep: 10/10\tIt: 51/468\tbatch_loss: 0.4666\tbatch_accuracy: 81.25%\n",
      "Ep: 10/10\tIt: 101/468\tbatch_loss: 0.5777\tbatch_accuracy: 76.56%\n",
      "Ep: 10/10\tIt: 151/468\tbatch_loss: 0.4934\tbatch_accuracy: 81.25%\n",
      "Ep: 10/10\tIt: 201/468\tbatch_loss: 0.6138\tbatch_accuracy: 79.69%\n",
      "Ep: 10/10\tIt: 251/468\tbatch_loss: 0.5971\tbatch_accuracy: 75.00%\n",
      "Ep: 10/10\tIt: 301/468\tbatch_loss: 0.8125\tbatch_accuracy: 68.75%\n",
      "Ep: 10/10\tIt: 351/468\tbatch_loss: 0.6450\tbatch_accuracy: 76.56%\n",
      "Ep: 10/10\tIt: 401/468\tbatch_loss: 0.5414\tbatch_accuracy: 79.69%\n",
      "Ep: 10/10\tIt: 451/468\tbatch_loss: 0.5556\tbatch_accuracy: 77.34%\n",
      "Ep: 10/10\tIt: 468/468\tbatch_loss: 0.5969\tbatch_accuracy: 72.66%\n",
      "Training time for epoch 9 in minutes: 0.26\n",
      "------------\n",
      "Train acc: 77.14%\tTrain loss: 0.6131\n",
      "Test acc: 78.97%\tTest loss: 0.5506\n",
      "Best test acc: 78.97%\n",
      "New model saved!\n",
      "\n",
      "Overall training time in minutes: 2.87 minutes on cuda for 10 epochs\n"
     ]
    }
   ],
   "source": [
    "# Train\n",
    "iters_per_epoch = len(train_loader)\n",
    "\n",
    "# Define optimizer for training the model\n",
    "optimizer = optim.AdamW(model.parameters(), lr=LR, weight_decay=1e-3)\n",
    "\n",
    "# Define loss function\n",
    "loss_fn = nn.CrossEntropyLoss()\n",
    "\n",
    "# scheduler for linear warmup of lr and then cosine decay\n",
    "linear_warmup = optim.lr_scheduler.LinearLR(optimizer, start_factor=1/WARMUP_EPOCHS, end_factor=1.0, total_iters=WARMUP_EPOCHS-1, last_epoch=-1)\n",
    "cos_decay = optim.lr_scheduler.CosineAnnealingLR(optimizer=optimizer, T_max=EPOCHS-WARMUP_EPOCHS, eta_min=1e-5)\n",
    "\n",
    "# Variable to capture best test accuracy\n",
    "best_acc = 0\n",
    "\n",
    "train_start_time = time.time()\n",
    "\n",
    "# Training loop\n",
    "for epoch in range(EPOCHS):\n",
    "    \n",
    "    start_time = time.time()\n",
    "    # Set model to training mode\n",
    "    model.train()\n",
    "\n",
    "    # Arrays to record epoch loss and accuracy\n",
    "    train_epoch_loss = []\n",
    "    train_epoch_accuracy = []\n",
    "\n",
    "    # Loop on loader\n",
    "    for i, (x, y) in enumerate(train_loader):\n",
    "\n",
    "        # Push to GPU\n",
    "        x, y = x.cuda(), y.cuda()\n",
    "\n",
    "        # Get output logits from the model \n",
    "        logits = model(x)\n",
    "\n",
    "        # Compute training loss\n",
    "        loss = loss_fn(logits, y)\n",
    "\n",
    "        # Updating the model\n",
    "        optimizer.zero_grad()\n",
    "        loss.backward()\n",
    "        optimizer.step()\n",
    "\n",
    "        # Batch metrics\n",
    "        batch_pred = logits.max(1)[1]\n",
    "        batch_accuracy = (y==batch_pred).float().mean()\n",
    "        train_epoch_loss += [loss.item()]\n",
    "        train_epoch_accuracy += [batch_accuracy.item()]\n",
    "\n",
    "        # Log training progress\n",
    "        if i % 50 == 0 or i == (iters_per_epoch - 1):\n",
    "            print(f'Ep: {epoch+1}/{EPOCHS}\\tIt: {i+1}/{iters_per_epoch}\\tbatch_loss: {loss:.4f}\\tbatch_accuracy: {batch_accuracy:.2%}')\n",
    "\n",
    "    end_time = time.time()\n",
    "\n",
    "    # Print elapsed time for the epoch\n",
    "    print(f\"Training time for epoch {epoch} in minutes: {(end_time - start_time) / 60:.2f}\")\n",
    "\n",
    "    # Print train acc and loss\n",
    "    print('------------')\n",
    "    print(f\"Train acc: {sum(train_epoch_accuracy)/iters_per_epoch:.2%}\\tTrain loss: {sum(train_epoch_loss)/iters_per_epoch:.4f}\")\n",
    "    \n",
    "    # Test the test set after every epoch\n",
    "    test_acc, test_loss = test(model,loss_fn,train_loader,test_loader)\n",
    "    \n",
    "    # Capture best test accuracy\n",
    "    best_acc = max(test_acc, best_acc)\n",
    "    print(f\"Best test acc: {best_acc:.2%}\")\n",
    "\n",
    "    # Save model if accuracy improves\n",
    "    if test_acc >= best_acc:\n",
    "        torch.save(model.state_dict(), os.path.join(MODEL_PATH, \"ViT_model.pt\"))\n",
    "        print('New model saved!\\n')\n",
    "    \n",
    "    # Update learning rate using schedulers\n",
    "    if epoch < WARMUP_EPOCHS:\n",
    "        linear_warmup.step()\n",
    "    else:\n",
    "        cos_decay.step()\n",
    "\n",
    "    # Update training progression metric arrays\n",
    "    train_losses += [sum(train_epoch_loss)/iters_per_epoch]\n",
    "    test_losses += [test_loss]\n",
    "    train_accuracies += [sum(train_epoch_accuracy)/iters_per_epoch]\n",
    "    test_accuracies += [test_acc]\n",
    "\n",
    "train_end_time = time.time()\n",
    "# overall training time\n",
    "print(f\"Overall training time in minutes: {(train_end_time - train_start_time) / 60:.2f} minutes on {device} for {EPOCHS} epochs\")"
   ]
  },
  {
   "cell_type": "markdown",
   "id": "dc9aa2ba-5a5a-4144-97fe-4c2160686d98",
   "metadata": {},
   "source": [
    "### Evaluate"
   ]
  },
  {
   "cell_type": "markdown",
   "id": "df4188b5-f753-4db0-a00a-37b045270c85",
   "metadata": {},
   "source": [
    "We can now visualize the progression of loss and accuracy values for training and test data during the training process:"
   ]
  },
  {
   "cell_type": "code",
   "execution_count": 25,
   "id": "f515c2ca-673f-48f8-8cac-d43d39be3395",
   "metadata": {},
   "outputs": [
    {
     "data": {
      "image/png": "[encoded data removed]",
      "text/plain": [
       "<Figure size 640x480 with 1 Axes>"
      ]
     },
     "metadata": {},
     "output_type": "display_data"
    }
   ],
   "source": [
    "# Plot graph of loss values\n",
    "plt.plot(train_losses, label='Train')\n",
    "plt.plot(test_losses, label='Test')\n",
    "\n",
    "plt.ylabel('Loss', fontsize = 18)\n",
    "plt.yticks(fontsize=16)\n",
    "plt.xlabel('Epoch', fontsize = 18)\n",
    "plt.xticks(fontsize=16)\n",
    "plt.legend(fontsize=15, frameon=False)\n",
    "\n",
    "plt.show()"
   ]
  },
  {
   "cell_type": "code",
   "execution_count": 26,
   "id": "b5f0bf4a-3df5-4281-a27f-6785ed68f0cc",
   "metadata": {},
   "outputs": [
    {
     "data": {
      "image/png": "[encoded data removed]",
      "text/plain": [
       "<Figure size 640x480 with 1 Axes>"
      ]
     },
     "metadata": {},
     "output_type": "display_data"
    }
   ],
   "source": [
    "# Plot graph of accuracies\n",
    "plt.plot(train_accuracies, label='Train')\n",
    "plt.plot(test_accuracies, label='Test')\n",
    "\n",
    "plt.ylabel('Accuracy', fontsize = 18)\n",
    "plt.yticks(fontsize=16)\n",
    "plt.xlabel('Epoch', fontsize = 18)\n",
    "plt.xticks(fontsize=16)\n",
    "plt.legend(fontsize=15, frameon=False)\n",
    "\n",
    "plt.show()"
   ]
  },
  {
   "cell_type": "markdown",
   "id": "9b1e2c55-9942-4791-8b37-e7201d433920",
   "metadata": {},
   "source": [
    "This looks like a decent training progression! It should improve even further with more training time and epochs."
   ]
  },
  {
   "cell_type": "markdown",
   "id": "5e73f4fb-4c9c-46c6-8838-7e0173be8a97",
   "metadata": {},
   "source": [
    "## Inference\n",
    "\n",
    "Now we can use the model for inference and also visualize predictions vs. ground truth as we have done often already. We will use the code from the introduction to ANN using PyTorch."
   ]
  },
  {
   "cell_type": "code",
   "execution_count": 27,
   "id": "1d11c9e9-c11e-4caf-883d-d1d7aedb16a7",
   "metadata": {},
   "outputs": [],
   "source": [
    "# function for predicting the class for a given batch by a trained model\n",
    "def predict_batch(model, batch, binary=True):\n",
    "    model.eval()\n",
    "    with torch.no_grad():\n",
    "        batch = batch.to(device)\n",
    "        #predict\n",
    "        outputs = model(batch)\n",
    "        # Get the prediction by selecting the class with the highest probability\n",
    "        if binary:\n",
    "#            predicted = torch.sigmoid(outputs)\n",
    "            predicted = torch.round(outputs)\n",
    "        else:\n",
    "#            predicted = torch.softmax(outputs, 1)\n",
    "            _, predicted = torch.max(outputs, 1)\n",
    "        return predicted.cpu(), outputs.cpu()"
   ]
  },
  {
   "cell_type": "markdown",
   "id": "1bed606d-7c3c-4d68-b256-162b289e812b",
   "metadata": {},
   "source": [
    "First, we make sure that we are using the best performing model so far. In contrast to what we did in connection with Object detection, where we saved the model as such, here we only saved its `state_dict`, so we have to instantiate the model first and then load the `state_dict` again:"
   ]
  },
  {
   "cell_type": "code",
   "execution_count": 28,
   "id": "b8079e7d-2515-4074-816d-4760605249c8",
   "metadata": {},
   "outputs": [
    {
     "data": {
      "text/plain": [
       "VisionTransformer(\n",
       "  (embedding): EmbedLayer(\n",
       "    (conv1): Conv2d(1, 64, kernel_size=(4, 4), stride=(4, 4))\n",
       "    (dropout): Dropout(p=0.1, inplace=False)\n",
       "  )\n",
       "  (encoder): ModuleList(\n",
       "    (0-5): 6 x Encoder(\n",
       "      (norm1): LayerNorm((64,), eps=1e-05, elementwise_affine=True)\n",
       "      (attention): SelfAttention(\n",
       "        (queries): Linear(in_features=64, out_features=64, bias=True)\n",
       "        (keys): Linear(in_features=64, out_features=64, bias=True)\n",
       "        (values): Linear(in_features=64, out_features=64, bias=True)\n",
       "        (out_projection): Linear(in_features=64, out_features=64, bias=True)\n",
       "      )\n",
       "      (dropout1): Dropout(p=0.1, inplace=False)\n",
       "      (norm2): LayerNorm((64,), eps=1e-05, elementwise_affine=True)\n",
       "      (fc1): Linear(in_features=64, out_features=128, bias=True)\n",
       "      (activation): GELU(approximate='none')\n",
       "      (fc2): Linear(in_features=128, out_features=64, bias=True)\n",
       "      (dropout2): Dropout(p=0.1, inplace=False)\n",
       "    )\n",
       "  )\n",
       "  (norm): LayerNorm((64,), eps=1e-05, elementwise_affine=True)\n",
       "  (classifier): Classifier(\n",
       "    (fc1): Linear(in_features=64, out_features=64, bias=True)\n",
       "    (activation): Tanh()\n",
       "    (fc2): Linear(in_features=64, out_features=10, bias=True)\n",
       "  )\n",
       ")"
      ]
     },
     "execution_count": 28,
     "metadata": {},
     "output_type": "execute_result"
    }
   ],
   "source": [
    "model.load_state_dict(torch.load(os.path.join(MODEL_PATH, \"ViT_model.pt\")))\n",
    "model.to(device)"
   ]
  },
  {
   "cell_type": "markdown",
   "id": "f3689f28-99cd-4f86-b33d-1c33cbfb7b54",
   "metadata": {},
   "source": [
    "Let's start by obtaining the predictions for the 16 images of the first batch of the test set:"
   ]
  },
  {
   "cell_type": "code",
   "execution_count": 29,
   "id": "42fde9f7-e729-40b0-aede-524986a3b160",
   "metadata": {},
   "outputs": [
    {
     "name": "stdout",
     "output_type": "stream",
     "text": [
      "Predictions:\t\t tensor([3, 9, 6, 9, 6, 3, 4, 2, 2, 2, 5, 2, 4, 2, 8, 4])\n",
      "Labels (ground truth):\t tensor([3, 7, 6, 7, 2, 1, 2, 2, 4, 4, 5, 8, 2, 2, 8, 4])\n"
     ]
    }
   ],
   "source": [
    "offset = 42\n",
    "# test on images offset to offset+16 of the first set\n",
    "batch_test = next(iter(test_loader))\n",
    "\n",
    "preds, _ = predict_batch(model, batch_test[0][offset:offset+16], binary=False)\n",
    "\n",
    "print(f'Predictions:\\t\\t {preds}')\n",
    "print(f'Labels (ground truth):\\t {batch_test[1][offset:offset+16]}')"
   ]
  },
  {
   "cell_type": "markdown",
   "id": "c4e1bb9f-0985-44be-9979-d1eefc7079bc",
   "metadata": {},
   "source": [
    "Now, let's visually check how well our model is doing:"
   ]
  },
  {
   "cell_type": "code",
   "execution_count": 30,
   "id": "c3b4b21e-18b2-49ed-bfdc-3d42f700349b",
   "metadata": {},
   "outputs": [
    {
     "data": {
      "image/png": "[encoded data removed]",
      "text/plain": [
       "<Figure size 800x800 with 16 Axes>"
      ]
     },
     "metadata": {},
     "output_type": "display_data"
    }
   ],
   "source": [
    "# visual check\n",
    "with plt.ioff(): # only show the plot when prompted explicitly\n",
    "    fig = plt.figure(figsize=(8, 8))\n",
    "    for i in range(16):\n",
    "        pred = preds[i]\n",
    "        label = batch_test[1][offset+i]\n",
    "        pred_txt = labels_map[int(pred)]\n",
    "        label_txt = labels_map[int(label)]\n",
    "        \n",
    "        correct = pred == label\n",
    "        ax = fig.add_subplot(4, 4, i+1)\n",
    "        ax.set_xticks([]); ax.set_yticks([])\n",
    "        img = batch_test[0][offset+i].view(28, 28)\n",
    "        ax.imshow(img, cmap='gray_r');\n",
    "        ax.text(0.25, 1.1, '{}'.format(label_txt), \n",
    "                size=8, color='green',\n",
    "                horizontalalignment='center',\n",
    "                verticalalignment='center', \n",
    "                transform=ax.transAxes)\n",
    "        ax.text(0.75, 1.1, '{}'.format(pred_txt), \n",
    "                size=8, color='blue' if correct else 'red',\n",
    "                horizontalalignment='center',\n",
    "                verticalalignment='center', \n",
    "                transform=ax.transAxes)\n",
    "        ax.text(0.45, 0.05, '{}'.format('Correct' if correct else 'Incorrect'), \n",
    "            size=10, color='blue' if correct else 'red',\n",
    "            horizontalalignment='center',\n",
    "            verticalalignment='center', \n",
    "            transform=ax.transAxes)\n",
    "\n",
    "plt.show()"
   ]
  },
  {
   "cell_type": "markdown",
   "id": "e26384a8-5b4a-4b79-8b5c-8884f2db545e",
   "metadata": {},
   "source": [
    "### Final Notes\n",
    "\n",
    "This implementation is a basic representation of how Vision Transformers work. The code structure is quite simple by design to be easier to follow. There are a lot of improvements and optimizations that could be made."
   ]
  },
  {
   "cell_type": "markdown",
   "id": "07bd1a0f-3f4e-42db-bf5e-92cda77cbf8d",
   "metadata": {},
   "source": [
    "## Learning Outcomes\n",
    "---\n",
    "This material introduced transformer models and their core mechanism: attention. The theoretical foundation of such models is motivated in Natural Language Processing, but can, once understood, easily be transferred to vision tasks. This material also provides an implementation of the Vision Transformer model in PyTorch. If you paid *attention* to this notebook, you should now\n",
    "\n",
    "* know the ideas behind transformer models, in particular\n",
    "  * the attention mechanism with queries, keys, and values\n",
    "  * why attention is scaled and normalized through softmax\n",
    "  * encoder and decoder architectures\n",
    "* understand the necessary modifications to work with image data\n",
    "* be able to implement a Vision Transformer model with attention mechanism from scratch in PyTorch."
   ]
  }
 ],
 "metadata": {
  "kernelspec": {
   "display_name": "Python 3 (ipykernel)",
   "language": "python",
   "name": "python3"
  },
  "language_info": {
   "codemirror_mode": {
    "name": "ipython",
    "version": 3
   },
   "file_extension": ".py",
   "mimetype": "text/x-python",
   "name": "python",
   "nbconvert_exporter": "python",
   "pygments_lexer": "ipython3",
   "version": "3.12.3"
  }
 },
 "nbformat": 4,
 "nbformat_minor": 5
}
